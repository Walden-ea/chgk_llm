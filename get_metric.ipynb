{
 "cells": [
  {
   "cell_type": "code",
   "execution_count": 48,
   "metadata": {},
   "outputs": [],
   "source": [
    "from langchain.llms.base import LLM\n",
    "from typing import List, Optional, Dict, Any\n",
    "from yandex_gpt import YandexGPTConfigManagerForAPIKey, YandexGPT\n",
    "from env_vars import *\n",
    "\n",
    "config_manager = YandexGPTConfigManagerForAPIKey(\n",
    "    model_type=\"yandexgpt\",\n",
    "    catalog_id=CATALOGUE_ID,\n",
    "    api_key=API_KEY\n",
    ")\n",
    "\n",
    "class YandexGPTWrapper(LLM):\n",
    "    # def __init__(self, model_type: str, catalog_id: str, api_key: str):\n",
    "    #     \"\"\"\n",
    "    #     Initializes the YandexGPT wrapper with the given configuration.\n",
    "\n",
    "    #     Args:\n",
    "    #         model_type (str): The model type (e.g., \"yandexgpt\").\n",
    "    #         catalog_id (str): The catalog ID.\n",
    "    #         api_key (str): The API key for accessing the Yandex GPT API.\n",
    "    #     \"\"\"\n",
    "    config_manager: YandexGPTConfigManagerForAPIKey \n",
    "    yandex_gpt: YandexGPT = YandexGPT(config_manager=config_manager)\n",
    "        \n",
    "    @property\n",
    "    def _llm_type(self) -> str:\n",
    "        return \"yandex_gpt_wrapper_because_the_langchain_yandexgpt_wont_let_authorize\"\n",
    "\n",
    "    def _call(self, prompt: str, stop: Optional[List[str]] = None) -> str:\n",
    "        \"\"\"\n",
    "        Calls the YandexGPT model with the given prompt and returns the completion.\n",
    "\n",
    "        Args:\n",
    "            prompt (str): The input prompt for the model.\n",
    "            stop (Optional[List[str]]): Optional stop tokens. Not used in this implementation.\n",
    "\n",
    "        Returns:\n",
    "            str: The completion text returned by the YandexGPT model.\n",
    "        \"\"\"\n",
    "        messages = [{'role': 'user', 'text': prompt}]\n",
    "        completion = self.yandex_gpt.get_sync_completion(messages=messages)\n",
    "        return completion\n",
    "\n",
    "    @property\n",
    "    def identifying_params(self) -> Dict[str, Any]:\n",
    "        \"\"\"\n",
    "        Returns the identifying parameters for the model instance.\n",
    "\n",
    "        Returns:\n",
    "            Dict[str, Any]: The parameters used to initialize the model.\n",
    "        \"\"\"\n",
    "        return {\n",
    "            \"model_type\": self.config_manager.model_type,\n",
    "            \"catalog_id\": self.config_manager.catalog_id,\n",
    "            \"api_key\": self.config_manager.api_key\n",
    "        }\n",
    "\n",
    "# Usage example:\n",
    "# Assuming you have the CATALOGUE_ID and API_KEY already defined\n",
    "yandex_llm = YandexGPTWrapper(config_manager=config_manager)\n",
    "# response = yandex_llm.invoke(\"Я дам тебе вопрос из 'Что? Где? Когда?' и ответ к нему. Тебе нужно сымитировать рассуждения знатоков. Их диалог. Выдели важные подсказки из вопроса, приводи к ним ассоциации. Используй в том числе идеи из поп-культуры мифологии литературы и мемов и популярные образы. Рассуждай вслух, долго и по шагам и в конце приди к ответу. Бог на одном юмористическом рисунке несколько раз называет ЕГО “хорошим мальчиком”. Назовите ЕГО. Ответ, к которому тебе нужно прийти: Цербер.\")\n",
    "# print(response)\n"
   ]
  },
  {
   "cell_type": "code",
   "execution_count": 49,
   "metadata": {},
   "outputs": [],
   "source": [
    "import pandas as pd\n",
    "from langchain.chains import LLMChain\n",
    "from langchain_community.llms import YandexGPT\n",
    "from langchain_core.prompts import PromptTemplate\n",
    "from time import sleep"
   ]
  },
  {
   "cell_type": "code",
   "execution_count": 50,
   "metadata": {},
   "outputs": [],
   "source": [
    "df = pd.read_csv(\"test_res_with_bin.csv\")"
   ]
  },
  {
   "cell_type": "code",
   "execution_count": 51,
   "metadata": {},
   "outputs": [],
   "source": [
    "prompt_str = '''\n",
    "Ты профессиональный игрок в Что? Где? Когда? Ты проверяешь ответы, которые дали команды.\n",
    "\n",
    "Вопрос: {q}\n",
    "\n",
    "Правильный ответ: {a}\n",
    "\n",
    "Ответ, который дала команда: {pred}. \n",
    "\n",
    "Тебе нужно сравнить правильный ответ с ответом команды и порассуждать, соответствует ли ответ команды правильному ответу в контексте вопроса. Обращай внимание на форму вопроса (т.е. что именно спрашивают)! \n",
    "\n",
    "Сначала рассуждения!\n",
    "Потом, после рассуждений ты пишешь свой вердикт: #ВЕРНО, если ответ можно зачесть или #НЕВЕРНО, если нельзя.\n",
    "'''\n",
    "\n",
    "# prompt = 'say hi'\n",
    "\n"
   ]
  },
  {
   "cell_type": "code",
   "execution_count": 52,
   "metadata": {},
   "outputs": [],
   "source": [
    "prompt = PromptTemplate.from_template(prompt_str)"
   ]
  },
  {
   "cell_type": "code",
   "execution_count": 73,
   "metadata": {},
   "outputs": [],
   "source": [
    "def func(row):\n",
    "        llm_chain = {\"q\": lambda _: row['q'], \"a\": lambda _: row['a'], \"pred\":lambda _:  row['predict']} | prompt | yandex_llm\n",
    "        # llm_chain = prompt | yandex_llm\n",
    "        # print(llm_chain)\n",
    "        sleep(1)\n",
    "        return llm_chain.invoke(\"\")\n",
    "        # return \"\""
   ]
  },
  {
   "cell_type": "code",
   "execution_count": 74,
   "metadata": {},
   "outputs": [
    {
     "data": {
      "text/plain": [
       "'#НЕВЕРНО\\n\\nПравильный ответ «собирать пазл, собирать мозаику» более соответствует контексту вопроса, чем предложенный командой вариант «раскладывать пасьянс». \\n\\nИэн Рэнкин говорит о том, что некое занятие помогает вносить порядок в хаос. Это может относиться к процессу упорядочивания элементов пазла или мозаики, который требует внимания и логики. В то же время раскладывание пасьянса не обязательно подразумевает внесение порядка в хаотичную ситуацию, так как это занятие может быть скорее способом расслабиться и провести время.'"
      ]
     },
     "execution_count": 74,
     "metadata": {},
     "output_type": "execute_result"
    }
   ],
   "source": [
    "res = func(df.iloc[0])\n",
    "res"
   ]
  },
  {
   "cell_type": "code",
   "execution_count": 75,
   "metadata": {},
   "outputs": [],
   "source": [
    "from tqdm import tqdm\n",
    "tqdm.pandas()"
   ]
  },
  {
   "cell_type": "code",
   "execution_count": 76,
   "metadata": {},
   "outputs": [
    {
     "data": {
      "text/html": [
       "<div>\n",
       "<style scoped>\n",
       "    .dataframe tbody tr th:only-of-type {\n",
       "        vertical-align: middle;\n",
       "    }\n",
       "\n",
       "    .dataframe tbody tr th {\n",
       "        vertical-align: top;\n",
       "    }\n",
       "\n",
       "    .dataframe thead th {\n",
       "        text-align: right;\n",
       "    }\n",
       "</style>\n",
       "<table border=\"1\" class=\"dataframe\">\n",
       "  <thead>\n",
       "    <tr style=\"text-align: right;\">\n",
       "      <th></th>\n",
       "      <th>Unnamed: 0.1</th>\n",
       "      <th>Unnamed: 0</th>\n",
       "      <th>q</th>\n",
       "      <th>a</th>\n",
       "      <th>predict</th>\n",
       "      <th>f1_score</th>\n",
       "      <th>exact_match</th>\n",
       "      <th>answer_checking</th>\n",
       "      <th>correct</th>\n",
       "    </tr>\n",
       "  </thead>\n",
       "  <tbody>\n",
       "    <tr>\n",
       "      <th>0</th>\n",
       "      <td>485</td>\n",
       "      <td>492</td>\n",
       "      <td>Автор детективов Иэн Рэнкин увлекается неким з...</td>\n",
       "      <td>собирать пазл, собирать мозаику, складывать па...</td>\n",
       "      <td>Раскладывать пасьянс.</td>\n",
       "      <td>0.000000</td>\n",
       "      <td>0</td>\n",
       "      <td>#НЕВЕРНО\\n\\nИэн Рэнкин увлекается собиранием п...</td>\n",
       "      <td>False</td>\n",
       "    </tr>\n",
       "    <tr>\n",
       "      <th>1</th>\n",
       "      <td>817</td>\n",
       "      <td>828</td>\n",
       "      <td>Некоторые виды мух называют путниками из-за их...</td>\n",
       "      <td>спутниками, спутники, спутник</td>\n",
       "      <td>расстоянии</td>\n",
       "      <td>0.000000</td>\n",
       "      <td>0</td>\n",
       "      <td>#НЕВЕРНО.\\n\\nКоманда ответила на вопрос неполн...</td>\n",
       "      <td>False</td>\n",
       "    </tr>\n",
       "    <tr>\n",
       "      <th>2</th>\n",
       "      <td>30</td>\n",
       "      <td>33</td>\n",
       "      <td>Хави Повес активно продвигает концепцию плоско...</td>\n",
       "      <td>астронавт, космонавт</td>\n",
       "      <td>Космонавт</td>\n",
       "      <td>0.666667</td>\n",
       "      <td>0</td>\n",
       "      <td>#ВЕРНО\\nОтвет команды «Космонавт» можно зачест...</td>\n",
       "      <td>True</td>\n",
       "    </tr>\n",
       "    <tr>\n",
       "      <th>3</th>\n",
       "      <td>551</td>\n",
       "      <td>560</td>\n",
       "      <td>Борющаяся с музыкальными корпорациями группа C...</td>\n",
       "      <td>троянский конь</td>\n",
       "      <td>Дон Кихот.</td>\n",
       "      <td>0.000000</td>\n",
       "      <td>0</td>\n",
       "      <td>#НЕВЕРНО\\n\\nОтвет команды нельзя зачесть, поск...</td>\n",
       "      <td>False</td>\n",
       "    </tr>\n",
       "    <tr>\n",
       "      <th>4</th>\n",
       "      <td>96</td>\n",
       "      <td>100</td>\n",
       "      <td>Голландский шахматист Мануэль Босбом выиграл с...</td>\n",
       "      <td>дырка, дыра</td>\n",
       "      <td>Надпись.</td>\n",
       "      <td>0.000000</td>\n",
       "      <td>0</td>\n",
       "      <td>#НЕВЕРНО\\n\\nОтвет команды не подходит, посколь...</td>\n",
       "      <td>False</td>\n",
       "    </tr>\n",
       "    <tr>\n",
       "      <th>...</th>\n",
       "      <td>...</td>\n",
       "      <td>...</td>\n",
       "      <td>...</td>\n",
       "      <td>...</td>\n",
       "      <td>...</td>\n",
       "      <td>...</td>\n",
       "      <td>...</td>\n",
       "      <td>...</td>\n",
       "      <td>...</td>\n",
       "    </tr>\n",
       "    <tr>\n",
       "      <th>395</th>\n",
       "      <td>289</td>\n",
       "      <td>294</td>\n",
       "      <td>Василий Рóзанов писал, что Наталья Нóрдман пог...</td>\n",
       "      <td>пылесос</td>\n",
       "      <td>Каспийское море.</td>\n",
       "      <td>0.000000</td>\n",
       "      <td>0</td>\n",
       "      <td>#НЕВЕРНО\\nРассуждения: Василий Розанов сравнив...</td>\n",
       "      <td>False</td>\n",
       "    </tr>\n",
       "    <tr>\n",
       "      <th>396</th>\n",
       "      <td>238</td>\n",
       "      <td>243</td>\n",
       "      <td>Математик семнадцатого века Джон ВАллис активн...</td>\n",
       "      <td>курица, куриная лапа, лапа курицы, лапка куриц...</td>\n",
       "      <td>Какофония.</td>\n",
       "      <td>0.000000</td>\n",
       "      <td>0</td>\n",
       "      <td>#НЕВЕРНО\\nРассуждения: ответ команды «Какофони...</td>\n",
       "      <td>False</td>\n",
       "    </tr>\n",
       "    <tr>\n",
       "      <th>397</th>\n",
       "      <td>0</td>\n",
       "      <td>0</td>\n",
       "      <td>В одном из эпизодов мультфильма Криса Батлера ...</td>\n",
       "      <td>сэр, сир, sir</td>\n",
       "      <td>Сэр.</td>\n",
       "      <td>0.500000</td>\n",
       "      <td>0</td>\n",
       "      <td>#ВЕРНО\\n\\nОтвет команды «сэр» можно зачесть, т...</td>\n",
       "      <td>True</td>\n",
       "    </tr>\n",
       "    <tr>\n",
       "      <th>398</th>\n",
       "      <td>832</td>\n",
       "      <td>843</td>\n",
       "      <td>В стихотворении под названием «ОН» Дэвид Лоуре...</td>\n",
       "      <td>комары, комар, комарик</td>\n",
       "      <td>Элли</td>\n",
       "      <td>0.000000</td>\n",
       "      <td>0</td>\n",
       "      <td>#НЕВЕРНО\\n\\nОтвет команды не подходит, посколь...</td>\n",
       "      <td>False</td>\n",
       "    </tr>\n",
       "    <tr>\n",
       "      <th>399</th>\n",
       "      <td>409</td>\n",
       "      <td>416</td>\n",
       "      <td>«Сначала паруса, а потом корпус корабля». Это ...</td>\n",
       "      <td>шарообразность Земли, Что Земля шар, а также Ч...</td>\n",
       "      <td>Бесконечность мира.</td>\n",
       "      <td>0.000000</td>\n",
       "      <td>0</td>\n",
       "      <td>#НЕВЕРНО\\n\\nКоманда дала неверный ответ. Прави...</td>\n",
       "      <td>False</td>\n",
       "    </tr>\n",
       "  </tbody>\n",
       "</table>\n",
       "<p>400 rows × 9 columns</p>\n",
       "</div>"
      ],
      "text/plain": [
       "     Unnamed: 0.1  Unnamed: 0  \\\n",
       "0             485         492   \n",
       "1             817         828   \n",
       "2              30          33   \n",
       "3             551         560   \n",
       "4              96         100   \n",
       "..            ...         ...   \n",
       "395           289         294   \n",
       "396           238         243   \n",
       "397             0           0   \n",
       "398           832         843   \n",
       "399           409         416   \n",
       "\n",
       "                                                     q  \\\n",
       "0    Автор детективов Иэн Рэнкин увлекается неким з...   \n",
       "1    Некоторые виды мух называют путниками из-за их...   \n",
       "2    Хави Повес активно продвигает концепцию плоско...   \n",
       "3    Борющаяся с музыкальными корпорациями группа C...   \n",
       "4    Голландский шахматист Мануэль Босбом выиграл с...   \n",
       "..                                                 ...   \n",
       "395  Василий Рóзанов писал, что Наталья Нóрдман пог...   \n",
       "396  Математик семнадцатого века Джон ВАллис активн...   \n",
       "397  В одном из эпизодов мультфильма Криса Батлера ...   \n",
       "398  В стихотворении под названием «ОН» Дэвид Лоуре...   \n",
       "399  «Сначала паруса, а потом корпус корабля». Это ...   \n",
       "\n",
       "                                                     a                predict  \\\n",
       "0    собирать пазл, собирать мозаику, складывать па...  Раскладывать пасьянс.   \n",
       "1                        спутниками, спутники, спутник             расстоянии   \n",
       "2                                 астронавт, космонавт              Космонавт   \n",
       "3                                       троянский конь             Дон Кихот.   \n",
       "4                                          дырка, дыра               Надпись.   \n",
       "..                                                 ...                    ...   \n",
       "395                                            пылесос       Каспийское море.   \n",
       "396  курица, куриная лапа, лапа курицы, лапка куриц...             Какофония.   \n",
       "397                                      сэр, сир, sir                   Сэр.   \n",
       "398                             комары, комар, комарик                   Элли   \n",
       "399  шарообразность Земли, Что Земля шар, а также Ч...    Бесконечность мира.   \n",
       "\n",
       "     f1_score  exact_match                                    answer_checking  \\\n",
       "0    0.000000            0  #НЕВЕРНО\\n\\nИэн Рэнкин увлекается собиранием п...   \n",
       "1    0.000000            0  #НЕВЕРНО.\\n\\nКоманда ответила на вопрос неполн...   \n",
       "2    0.666667            0  #ВЕРНО\\nОтвет команды «Космонавт» можно зачест...   \n",
       "3    0.000000            0  #НЕВЕРНО\\n\\nОтвет команды нельзя зачесть, поск...   \n",
       "4    0.000000            0  #НЕВЕРНО\\n\\nОтвет команды не подходит, посколь...   \n",
       "..        ...          ...                                                ...   \n",
       "395  0.000000            0  #НЕВЕРНО\\nРассуждения: Василий Розанов сравнив...   \n",
       "396  0.000000            0  #НЕВЕРНО\\nРассуждения: ответ команды «Какофони...   \n",
       "397  0.500000            0  #ВЕРНО\\n\\nОтвет команды «сэр» можно зачесть, т...   \n",
       "398  0.000000            0  #НЕВЕРНО\\n\\nОтвет команды не подходит, посколь...   \n",
       "399  0.000000            0  #НЕВЕРНО\\n\\nКоманда дала неверный ответ. Прави...   \n",
       "\n",
       "     correct  \n",
       "0      False  \n",
       "1      False  \n",
       "2       True  \n",
       "3      False  \n",
       "4      False  \n",
       "..       ...  \n",
       "395    False  \n",
       "396    False  \n",
       "397     True  \n",
       "398    False  \n",
       "399    False  \n",
       "\n",
       "[400 rows x 9 columns]"
      ]
     },
     "execution_count": 76,
     "metadata": {},
     "output_type": "execute_result"
    }
   ],
   "source": [
    "# df = df.head(10)\n",
    "df"
   ]
  },
  {
   "cell_type": "code",
   "execution_count": 77,
   "metadata": {},
   "outputs": [
    {
     "name": "stderr",
     "output_type": "stream",
     "text": [
      " 15%|█▍        | 59/400 [04:46<34:23,  6.05s/it]"
     ]
    }
   ],
   "source": [
    "df['answer_checked_2'] = df.progress_apply(func, axis=1)\n",
    "df"
   ]
  },
  {
   "cell_type": "code",
   "execution_count": null,
   "metadata": {},
   "outputs": [],
   "source": [
    "df['correct_2'] = df['answer_checked_2'].apply(lambda x: '#ВЕРНО' in x)"
   ]
  },
  {
   "cell_type": "code",
   "execution_count": null,
   "metadata": {},
   "outputs": [
    {
     "data": {
      "text/plain": [
       "3"
      ]
     },
     "execution_count": 46,
     "metadata": {},
     "output_type": "execute_result"
    }
   ],
   "source": [
    "df['correct_2'].sum()"
   ]
  },
  {
   "cell_type": "code",
   "execution_count": null,
   "metadata": {},
   "outputs": [
    {
     "data": {
      "text/plain": [
       "3"
      ]
     },
     "execution_count": 47,
     "metadata": {},
     "output_type": "execute_result"
    }
   ],
   "source": [
    "df['correct'].sum()"
   ]
  },
  {
   "cell_type": "code",
   "execution_count": null,
   "metadata": {},
   "outputs": [],
   "source": []
  }
 ],
 "metadata": {
  "kernelspec": {
   "display_name": ".venv",
   "language": "python",
   "name": "python3"
  },
  "language_info": {
   "codemirror_mode": {
    "name": "ipython",
    "version": 3
   },
   "file_extension": ".py",
   "mimetype": "text/x-python",
   "name": "python",
   "nbconvert_exporter": "python",
   "pygments_lexer": "ipython3",
   "version": "3.11.7"
  }
 },
 "nbformat": 4,
 "nbformat_minor": 2
}
