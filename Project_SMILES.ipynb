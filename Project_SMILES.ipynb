{
  "cells": [
    {
      "cell_type": "code",
      "execution_count": 1,
      "id": "112a71ae",
      "metadata": {
        "id": "112a71ae"
      },
      "outputs": [],
      "source": [
        "import pandas as pd\n",
        "\n",
        "# %pip install openpyxl"
      ]
    },
    {
      "cell_type": "code",
      "execution_count": 2,
      "id": "3133d291",
      "metadata": {
        "id": "3133d291"
      },
      "outputs": [],
      "source": [
        "df=pd.read_excel('tst_tr_chegeka.xlsx')"
      ]
    },
    {
      "cell_type": "code",
      "execution_count": 3,
      "id": "ac4ee9cb",
      "metadata": {
        "id": "ac4ee9cb"
      },
      "outputs": [
        {
          "data": {
            "text/html": [
              "<div>\n",
              "<style scoped>\n",
              "    .dataframe tbody tr th:only-of-type {\n",
              "        vertical-align: middle;\n",
              "    }\n",
              "\n",
              "    .dataframe tbody tr th {\n",
              "        vertical-align: top;\n",
              "    }\n",
              "\n",
              "    .dataframe thead th {\n",
              "        text-align: right;\n",
              "    }\n",
              "</style>\n",
              "<table border=\"1\" class=\"dataframe\">\n",
              "  <thead>\n",
              "    <tr style=\"text-align: right;\">\n",
              "      <th></th>\n",
              "      <th>Unnamed: 0</th>\n",
              "      <th>q</th>\n",
              "      <th>a</th>\n",
              "    </tr>\n",
              "  </thead>\n",
              "  <tbody>\n",
              "    <tr>\n",
              "      <th>0</th>\n",
              "      <td>0</td>\n",
              "      <td>В одном из эпизодов мультфильма Криса Батлера ...</td>\n",
              "      <td>сэр, сир, sir</td>\n",
              "    </tr>\n",
              "    <tr>\n",
              "      <th>1</th>\n",
              "      <td>1</td>\n",
              "      <td>В коротком произведении Елены Кацюбы в аду зло...</td>\n",
              "      <td>удав</td>\n",
              "    </tr>\n",
              "    <tr>\n",
              "      <th>2</th>\n",
              "      <td>2</td>\n",
              "      <td>По сюжету фильма Дэвида Хьюитта четверо астрон...</td>\n",
              "      <td>Дороти, Элли</td>\n",
              "    </tr>\n",
              "    <tr>\n",
              "      <th>3</th>\n",
              "      <td>3</td>\n",
              "      <td>Дэвид Вуттон пишет, что раньше одни учёные пол...</td>\n",
              "      <td>игра Камень ножницы бумага, Камень ножницы бумага</td>\n",
              "    </tr>\n",
              "    <tr>\n",
              "      <th>4</th>\n",
              "      <td>4</td>\n",
              "      <td>Ведущие украинской телепередачи “Орёл и решка”...</td>\n",
              "      <td>Дома лучше, А дома лучше</td>\n",
              "    </tr>\n",
              "    <tr>\n",
              "      <th>...</th>\n",
              "      <td>...</td>\n",
              "      <td>...</td>\n",
              "      <td>...</td>\n",
              "    </tr>\n",
              "    <tr>\n",
              "      <th>836</th>\n",
              "      <td>847</td>\n",
              "      <td>Животные рода хрисаора также известны как морс...</td>\n",
              "      <td>Медуса, Медуза</td>\n",
              "    </tr>\n",
              "    <tr>\n",
              "      <th>837</th>\n",
              "      <td>848</td>\n",
              "      <td>Альберто Анджела пишет, что если проследить пе...</td>\n",
              "      <td>монета</td>\n",
              "    </tr>\n",
              "    <tr>\n",
              "      <th>838</th>\n",
              "      <td>849</td>\n",
              "      <td>В казахских танцах движения рук имеют важную р...</td>\n",
              "      <td>на себя, от себя</td>\n",
              "    </tr>\n",
              "    <tr>\n",
              "      <th>839</th>\n",
              "      <td>850</td>\n",
              "      <td>Начало карьеры Линдси Лохан в кино было по-нас...</td>\n",
              "      <td>диснеевские принцессы, принцессы Дисней</td>\n",
              "    </tr>\n",
              "    <tr>\n",
              "      <th>840</th>\n",
              "      <td>851</td>\n",
              "      <td>Казахские девушки традиционно заплетают волосы...</td>\n",
              "      <td>свадьба, замужество</td>\n",
              "    </tr>\n",
              "  </tbody>\n",
              "</table>\n",
              "<p>841 rows × 3 columns</p>\n",
              "</div>"
            ],
            "text/plain": [
              "     Unnamed: 0                                                  q  \\\n",
              "0             0  В одном из эпизодов мультфильма Криса Батлера ...   \n",
              "1             1  В коротком произведении Елены Кацюбы в аду зло...   \n",
              "2             2  По сюжету фильма Дэвида Хьюитта четверо астрон...   \n",
              "3             3  Дэвид Вуттон пишет, что раньше одни учёные пол...   \n",
              "4             4  Ведущие украинской телепередачи “Орёл и решка”...   \n",
              "..          ...                                                ...   \n",
              "836         847  Животные рода хрисаора также известны как морс...   \n",
              "837         848  Альберто Анджела пишет, что если проследить пе...   \n",
              "838         849  В казахских танцах движения рук имеют важную р...   \n",
              "839         850  Начало карьеры Линдси Лохан в кино было по-нас...   \n",
              "840         851  Казахские девушки традиционно заплетают волосы...   \n",
              "\n",
              "                                                     a  \n",
              "0                                        сэр, сир, sir  \n",
              "1                                                 удав  \n",
              "2                                         Дороти, Элли  \n",
              "3    игра Камень ножницы бумага, Камень ножницы бумага  \n",
              "4                             Дома лучше, А дома лучше  \n",
              "..                                                 ...  \n",
              "836                                     Медуса, Медуза  \n",
              "837                                             монета  \n",
              "838                                   на себя, от себя  \n",
              "839            диснеевские принцессы, принцессы Дисней  \n",
              "840                                свадьба, замужество  \n",
              "\n",
              "[841 rows x 3 columns]"
            ]
          },
          "execution_count": 3,
          "metadata": {},
          "output_type": "execute_result"
        }
      ],
      "source": [
        "df"
      ]
    },
    {
      "cell_type": "code",
      "execution_count": 4,
      "id": "d89dfbfa",
      "metadata": {
        "id": "d89dfbfa"
      },
      "outputs": [],
      "source": [
        "from sklearn.model_selection import train_test_split"
      ]
    },
    {
      "cell_type": "code",
      "execution_count": 5,
      "id": "93ae5100",
      "metadata": {
        "id": "93ae5100"
      },
      "outputs": [],
      "source": [
        "train, test = train_test_split(df,test_size=400, random_state=42)"
      ]
    },
    {
      "cell_type": "code",
      "execution_count": 6,
      "id": "7f8278ed",
      "metadata": {},
      "outputs": [],
      "source": [
        "train.to_csv('train.csv')"
      ]
    },
    {
      "cell_type": "code",
      "execution_count": 67,
      "id": "4cf8e7ac",
      "metadata": {
        "id": "4cf8e7ac"
      },
      "outputs": [],
      "source": [
        "base_string='Вы участвуете в викторине “Что? Где? Когда?”. Внимательно прочитайте вопрос и ответьте на него. Обратите внимание на формат ответа: если он не указан в вопросе, то запишите только слово или фразу, отвечающую на вопрос, никаких дополнительных рассуждений приводить не нужно. Вопрос:'"
      ]
    },
    {
      "cell_type": "markdown",
      "id": "ecadeffb",
      "metadata": {
        "id": "ecadeffb"
      },
      "source": [
        "# Инференс"
      ]
    },
    {
      "cell_type": "code",
      "execution_count": 68,
      "id": "55300eee",
      "metadata": {
        "id": "55300eee"
      },
      "outputs": [],
      "source": [
        "# pip install --upgrade pip"
      ]
    },
    {
      "cell_type": "code",
      "execution_count": 69,
      "id": "113882d6",
      "metadata": {
        "id": "113882d6"
      },
      "outputs": [],
      "source": [
        "# pip install wheel #### Нужно для pip install yandexgpt-python"
      ]
    },
    {
      "cell_type": "code",
      "execution_count": 70,
      "id": "f7238e4c",
      "metadata": {
        "id": "f7238e4c"
      },
      "outputs": [],
      "source": [
        "# pip install yandexgpt-python\n",
        "from env_vars import *"
      ]
    },
    {
      "cell_type": "code",
      "execution_count": 71,
      "id": "fc01de0d",
      "metadata": {
        "id": "fc01de0d"
      },
      "outputs": [],
      "source": [
        "from yandex_gpt import YandexGPTConfigManagerForAPIKey\n",
        "\n",
        "# Initialize the configuration manager with model type, catalog ID, and API key\n",
        "config_manager = YandexGPTConfigManagerForAPIKey(\n",
        "    model_type=\"yandexgpt\",\n",
        "    catalog_id=CATALOGUE_ID,\n",
        "    api_key=API_KEY\n",
        ")"
      ]
    },
    {
      "cell_type": "code",
      "execution_count": 161,
      "id": "a60b5890",
      "metadata": {
        "id": "a60b5890"
      },
      "outputs": [],
      "source": [
        "from yandex_gpt import YandexGPT\n",
        "\n",
        "# Initialize YandexGPT with a configuration manager\n",
        "yandex_gpt = YandexGPT(config_manager=config_manager)"
      ]
    },
    {
      "cell_type": "code",
      "execution_count": 73,
      "id": "6cdc22b6",
      "metadata": {
        "id": "6cdc22b6"
      },
      "outputs": [],
      "source": [
        "from time import sleep\n",
        "def query_gpt(row, prompt=base_string):\n",
        "    completion = yandex_gpt.get_sync_completion(messages=[{'role': 'user', 'text': prompt+row['q'] + ' Ответ:' }])\n",
        "    sleep(1)\n",
        "    return completion"
      ]
    },
    {
      "cell_type": "code",
      "execution_count": 74,
      "id": "45b3266e",
      "metadata": {
        "id": "45b3266e"
      },
      "outputs": [
        {
          "data": {
            "text/html": [
              "<div>\n",
              "<style scoped>\n",
              "    .dataframe tbody tr th:only-of-type {\n",
              "        vertical-align: middle;\n",
              "    }\n",
              "\n",
              "    .dataframe tbody tr th {\n",
              "        vertical-align: top;\n",
              "    }\n",
              "\n",
              "    .dataframe thead th {\n",
              "        text-align: right;\n",
              "    }\n",
              "</style>\n",
              "<table border=\"1\" class=\"dataframe\">\n",
              "  <thead>\n",
              "    <tr style=\"text-align: right;\">\n",
              "      <th></th>\n",
              "      <th>Unnamed: 0</th>\n",
              "      <th>q</th>\n",
              "      <th>a</th>\n",
              "    </tr>\n",
              "  </thead>\n",
              "  <tbody>\n",
              "    <tr>\n",
              "      <th>485</th>\n",
              "      <td>492</td>\n",
              "      <td>Автор детективов Иэн Рэнкин увлекается неким з...</td>\n",
              "      <td>собирать пазл, собирать мозаику, складывать па...</td>\n",
              "    </tr>\n",
              "    <tr>\n",
              "      <th>817</th>\n",
              "      <td>828</td>\n",
              "      <td>Некоторые виды мух называют путниками из-за их...</td>\n",
              "      <td>спутниками, спутники, спутник</td>\n",
              "    </tr>\n",
              "    <tr>\n",
              "      <th>30</th>\n",
              "      <td>33</td>\n",
              "      <td>Хави Повес активно продвигает концепцию плоско...</td>\n",
              "      <td>астронавт, космонавт</td>\n",
              "    </tr>\n",
              "    <tr>\n",
              "      <th>551</th>\n",
              "      <td>560</td>\n",
              "      <td>Борющаяся с музыкальными корпорациями группа C...</td>\n",
              "      <td>троянский конь</td>\n",
              "    </tr>\n",
              "    <tr>\n",
              "      <th>96</th>\n",
              "      <td>100</td>\n",
              "      <td>Голландский шахматист Мануэль Босбом выиграл с...</td>\n",
              "      <td>дырка, дыра</td>\n",
              "    </tr>\n",
              "    <tr>\n",
              "      <th>...</th>\n",
              "      <td>...</td>\n",
              "      <td>...</td>\n",
              "      <td>...</td>\n",
              "    </tr>\n",
              "    <tr>\n",
              "      <th>289</th>\n",
              "      <td>294</td>\n",
              "      <td>Василий Рóзанов писал, что Наталья Нóрдман пог...</td>\n",
              "      <td>пылесос</td>\n",
              "    </tr>\n",
              "    <tr>\n",
              "      <th>238</th>\n",
              "      <td>243</td>\n",
              "      <td>Математик семнадцатого века Джон ВАллис активн...</td>\n",
              "      <td>курица, куриная лапа, лапа курицы, лапка куриц...</td>\n",
              "    </tr>\n",
              "    <tr>\n",
              "      <th>0</th>\n",
              "      <td>0</td>\n",
              "      <td>В одном из эпизодов мультфильма Криса Батлера ...</td>\n",
              "      <td>сэр, сир, sir</td>\n",
              "    </tr>\n",
              "    <tr>\n",
              "      <th>832</th>\n",
              "      <td>843</td>\n",
              "      <td>В стихотворении под названием «ОН» Дэвид Лоуре...</td>\n",
              "      <td>комары, комар, комарик</td>\n",
              "    </tr>\n",
              "    <tr>\n",
              "      <th>409</th>\n",
              "      <td>416</td>\n",
              "      <td>«Сначала паруса, а потом корпус корабля». Это ...</td>\n",
              "      <td>шарообразность Земли, Что Земля шар, а также Ч...</td>\n",
              "    </tr>\n",
              "  </tbody>\n",
              "</table>\n",
              "<p>400 rows × 3 columns</p>\n",
              "</div>"
            ],
            "text/plain": [
              "     Unnamed: 0                                                  q  \\\n",
              "485         492  Автор детективов Иэн Рэнкин увлекается неким з...   \n",
              "817         828  Некоторые виды мух называют путниками из-за их...   \n",
              "30           33  Хави Повес активно продвигает концепцию плоско...   \n",
              "551         560  Борющаяся с музыкальными корпорациями группа C...   \n",
              "96          100  Голландский шахматист Мануэль Босбом выиграл с...   \n",
              "..          ...                                                ...   \n",
              "289         294  Василий Рóзанов писал, что Наталья Нóрдман пог...   \n",
              "238         243  Математик семнадцатого века Джон ВАллис активн...   \n",
              "0             0  В одном из эпизодов мультфильма Криса Батлера ...   \n",
              "832         843  В стихотворении под названием «ОН» Дэвид Лоуре...   \n",
              "409         416  «Сначала паруса, а потом корпус корабля». Это ...   \n",
              "\n",
              "                                                     a  \n",
              "485  собирать пазл, собирать мозаику, складывать па...  \n",
              "817                      спутниками, спутники, спутник  \n",
              "30                                астронавт, космонавт  \n",
              "551                                     троянский конь  \n",
              "96                                         дырка, дыра  \n",
              "..                                                 ...  \n",
              "289                                            пылесос  \n",
              "238  курица, куриная лапа, лапа курицы, лапка куриц...  \n",
              "0                                        сэр, сир, sir  \n",
              "832                             комары, комар, комарик  \n",
              "409  шарообразность Земли, Что Земля шар, а также Ч...  \n",
              "\n",
              "[400 rows x 3 columns]"
            ]
          },
          "execution_count": 74,
          "metadata": {},
          "output_type": "execute_result"
        }
      ],
      "source": [
        "test "
      ]
    },
    {
      "cell_type": "code",
      "execution_count": 75,
      "id": "9fbfc0fb",
      "metadata": {},
      "outputs": [],
      "source": [
        "test['predict'] = test.apply(query_gpt, axis=1)"
      ]
    },
    {
      "cell_type": "code",
      "execution_count": 76,
      "id": "cab4904c",
      "metadata": {},
      "outputs": [],
      "source": [
        "test.to_csv('test_results.csv')"
      ]
    },
    {
      "cell_type": "code",
      "execution_count": 77,
      "id": "4cdc5692",
      "metadata": {},
      "outputs": [
        {
          "data": {
            "text/plain": [
              "400"
            ]
          },
          "execution_count": 77,
          "metadata": {},
          "output_type": "execute_result"
        }
      ],
      "source": [
        "len(test)"
      ]
    },
    {
      "cell_type": "code",
      "execution_count": 78,
      "id": "a06431a4",
      "metadata": {},
      "outputs": [
        {
          "data": {
            "text/html": [
              "<div>\n",
              "<style scoped>\n",
              "    .dataframe tbody tr th:only-of-type {\n",
              "        vertical-align: middle;\n",
              "    }\n",
              "\n",
              "    .dataframe tbody tr th {\n",
              "        vertical-align: top;\n",
              "    }\n",
              "\n",
              "    .dataframe thead th {\n",
              "        text-align: right;\n",
              "    }\n",
              "</style>\n",
              "<table border=\"1\" class=\"dataframe\">\n",
              "  <thead>\n",
              "    <tr style=\"text-align: right;\">\n",
              "      <th></th>\n",
              "      <th>Unnamed: 0</th>\n",
              "      <th>q</th>\n",
              "      <th>a</th>\n",
              "      <th>predict</th>\n",
              "    </tr>\n",
              "  </thead>\n",
              "  <tbody>\n",
              "    <tr>\n",
              "      <th>485</th>\n",
              "      <td>492</td>\n",
              "      <td>Автор детективов Иэн Рэнкин увлекается неким з...</td>\n",
              "      <td>собирать пазл, собирать мозаику, складывать па...</td>\n",
              "      <td>Раскладывать пасьянс.</td>\n",
              "    </tr>\n",
              "    <tr>\n",
              "      <th>817</th>\n",
              "      <td>828</td>\n",
              "      <td>Некоторые виды мух называют путниками из-за их...</td>\n",
              "      <td>спутниками, спутники, спутник</td>\n",
              "      <td>расстоянии</td>\n",
              "    </tr>\n",
              "    <tr>\n",
              "      <th>30</th>\n",
              "      <td>33</td>\n",
              "      <td>Хави Повес активно продвигает концепцию плоско...</td>\n",
              "      <td>астронавт, космонавт</td>\n",
              "      <td>Космонавт</td>\n",
              "    </tr>\n",
              "    <tr>\n",
              "      <th>551</th>\n",
              "      <td>560</td>\n",
              "      <td>Борющаяся с музыкальными корпорациями группа C...</td>\n",
              "      <td>троянский конь</td>\n",
              "      <td>Дон Кихот.</td>\n",
              "    </tr>\n",
              "    <tr>\n",
              "      <th>96</th>\n",
              "      <td>100</td>\n",
              "      <td>Голландский шахматист Мануэль Босбом выиграл с...</td>\n",
              "      <td>дырка, дыра</td>\n",
              "      <td>Надпись.</td>\n",
              "    </tr>\n",
              "    <tr>\n",
              "      <th>...</th>\n",
              "      <td>...</td>\n",
              "      <td>...</td>\n",
              "      <td>...</td>\n",
              "      <td>...</td>\n",
              "    </tr>\n",
              "    <tr>\n",
              "      <th>289</th>\n",
              "      <td>294</td>\n",
              "      <td>Василий Рóзанов писал, что Наталья Нóрдман пог...</td>\n",
              "      <td>пылесос</td>\n",
              "      <td>Каспийское море.</td>\n",
              "    </tr>\n",
              "    <tr>\n",
              "      <th>238</th>\n",
              "      <td>243</td>\n",
              "      <td>Математик семнадцатого века Джон ВАллис активн...</td>\n",
              "      <td>курица, куриная лапа, лапа курицы, лапка куриц...</td>\n",
              "      <td>Какофония.</td>\n",
              "    </tr>\n",
              "    <tr>\n",
              "      <th>0</th>\n",
              "      <td>0</td>\n",
              "      <td>В одном из эпизодов мультфильма Криса Батлера ...</td>\n",
              "      <td>сэр, сир, sir</td>\n",
              "      <td>Сэр.</td>\n",
              "    </tr>\n",
              "    <tr>\n",
              "      <th>832</th>\n",
              "      <td>843</td>\n",
              "      <td>В стихотворении под названием «ОН» Дэвид Лоуре...</td>\n",
              "      <td>комары, комар, комарик</td>\n",
              "      <td>Элли</td>\n",
              "    </tr>\n",
              "    <tr>\n",
              "      <th>409</th>\n",
              "      <td>416</td>\n",
              "      <td>«Сначала паруса, а потом корпус корабля». Это ...</td>\n",
              "      <td>шарообразность Земли, Что Земля шар, а также Ч...</td>\n",
              "      <td>Бесконечность мира.</td>\n",
              "    </tr>\n",
              "  </tbody>\n",
              "</table>\n",
              "<p>400 rows × 4 columns</p>\n",
              "</div>"
            ],
            "text/plain": [
              "     Unnamed: 0                                                  q  \\\n",
              "485         492  Автор детективов Иэн Рэнкин увлекается неким з...   \n",
              "817         828  Некоторые виды мух называют путниками из-за их...   \n",
              "30           33  Хави Повес активно продвигает концепцию плоско...   \n",
              "551         560  Борющаяся с музыкальными корпорациями группа C...   \n",
              "96          100  Голландский шахматист Мануэль Босбом выиграл с...   \n",
              "..          ...                                                ...   \n",
              "289         294  Василий Рóзанов писал, что Наталья Нóрдман пог...   \n",
              "238         243  Математик семнадцатого века Джон ВАллис активн...   \n",
              "0             0  В одном из эпизодов мультфильма Криса Батлера ...   \n",
              "832         843  В стихотворении под названием «ОН» Дэвид Лоуре...   \n",
              "409         416  «Сначала паруса, а потом корпус корабля». Это ...   \n",
              "\n",
              "                                                     a                predict  \n",
              "485  собирать пазл, собирать мозаику, складывать па...  Раскладывать пасьянс.  \n",
              "817                      спутниками, спутники, спутник             расстоянии  \n",
              "30                                астронавт, космонавт              Космонавт  \n",
              "551                                     троянский конь             Дон Кихот.  \n",
              "96                                         дырка, дыра               Надпись.  \n",
              "..                                                 ...                    ...  \n",
              "289                                            пылесос       Каспийское море.  \n",
              "238  курица, куриная лапа, лапа курицы, лапка куриц...             Какофония.  \n",
              "0                                        сэр, сир, sir                   Сэр.  \n",
              "832                             комары, комар, комарик                   Элли  \n",
              "409  шарообразность Земли, Что Земля шар, а также Ч...    Бесконечность мира.  \n",
              "\n",
              "[400 rows x 4 columns]"
            ]
          },
          "execution_count": 78,
          "metadata": {},
          "output_type": "execute_result"
        }
      ],
      "source": [
        "test"
      ]
    },
    {
      "cell_type": "markdown",
      "id": "55ebf45e",
      "metadata": {
        "id": "55ebf45e"
      },
      "source": [
        "# Вычисление итоговой метрики"
      ]
    },
    {
      "cell_type": "code",
      "execution_count": 79,
      "id": "00a51859",
      "metadata": {
        "id": "00a51859"
      },
      "outputs": [],
      "source": [
        "def normalize_text(s):\n",
        "    \"\"\"Removing articles and punctuation, and standardizing whitespace are all typical text processing steps.\"\"\"\n",
        "    import string, re\n",
        "\n",
        "    def remove_articles(text):\n",
        "        regex = re.compile(r\"\\b(a|an|the)\\b\", re.UNICODE)\n",
        "        return re.sub(regex, \" \", text)\n",
        "\n",
        "    def white_space_fix(text):\n",
        "        return \" \".join(text.split())\n",
        "\n",
        "    def remove_punc(text):\n",
        "        exclude = set(string.punctuation)\n",
        "        return \"\".join(ch for ch in text if ch not in exclude)\n",
        "\n",
        "    def lower(text):\n",
        "        return text.lower()\n",
        "\n",
        "    return white_space_fix(remove_articles(remove_punc(lower(s))))\n",
        "\n",
        "def compute_exact_match(prediction, truth):\n",
        "    return int(normalize_text(prediction) == normalize_text(truth))\n",
        "\n",
        "def compute_f1(prediction, truth):\n",
        "    pred_tokens = normalize_text(prediction).split()\n",
        "    truth_tokens = normalize_text(truth).split()\n",
        "\n",
        "    # if either the prediction or the truth is no-answer then f1 = 1 if they agree, 0 otherwise\n",
        "    if len(pred_tokens) == 0 or len(truth_tokens) == 0:\n",
        "        return int(pred_tokens == truth_tokens)\n",
        "\n",
        "    common_tokens = set(pred_tokens) & set(truth_tokens)\n",
        "\n",
        "    # if there are no common tokens then f1 = 0\n",
        "    if len(common_tokens) == 0:\n",
        "        return 0\n",
        "\n",
        "    prec = len(common_tokens) / len(pred_tokens)\n",
        "    rec = len(common_tokens) / len(truth_tokens)\n",
        "\n",
        "    return 2 * (prec * rec) / (prec + rec)"
      ]
    },
    {
      "cell_type": "code",
      "execution_count": 80,
      "id": "8efcd660",
      "metadata": {
        "id": "8efcd660"
      },
      "outputs": [],
      "source": [
        "def metrics_calculation(df):\n",
        "    df['f1_score']=df.apply(lambda x: compute_f1(x['predict'], x['a']), axis=1)\n",
        "    df['exact_match']=df.apply(lambda x: compute_exact_match(x['predict'], x['a']), axis=1)\n",
        "    return df"
      ]
    },
    {
      "cell_type": "code",
      "execution_count": 81,
      "id": "f8a2c43b",
      "metadata": {
        "id": "f8a2c43b"
      },
      "outputs": [],
      "source": [
        "test=metrics_calculation(test)\n",
        "total_f1_score=test['f1_score'].mean()\n",
        "total_exact_match=test['exact_match'].mean()"
      ]
    },
    {
      "cell_type": "code",
      "execution_count": 134,
      "id": "36bc90d1",
      "metadata": {},
      "outputs": [],
      "source": [
        "# base_string = \"Ты профеесиональный игрок в ЧТо? Где? Когда? Я покажу тебе вопрос из Что? Где? Когда? с  правильным ответом к нему. Еще я подам ответ, который дала команда. Тебе нужно СРАВНИТЬ правильный ответ с ответом команды и ответить, можно ли зачесть ответ команды. Выведи свой ответ в таком формате: Сначала рассуждения, почему ты принял это решение. Потом ответ: #ВЕРНО, если ответ можно зачесть или #НЕВЕРНО, если нельзя. \"\n",
        "\n",
        "\n",
        "base_string = '''\n",
        "Ты профессиональный игрок в Что? Где? Когда? Ты проверяешь ответы, которые дали команды.\n",
        "\n",
        "Вопрос: {q}\n",
        "\n",
        "Правильный ответ: {a}\n",
        "\n",
        "Ответ, который дала команда: {pred}. \n",
        "\n",
        "Тебе нужно сравнить правильный ответ с ответом команды и порассуждать, соответствует ли ответ команды правильному ответу в контексте вопроса. Обращай внимание на форму вопроса (т.е. что именно спрашивают)! \n",
        "\n",
        "Сначала рассуждения!\n",
        "Потом, после рассуждений ты пишешь свой вердикт: #ВЕРНО, если ответ можно зачесть или #НЕВЕРНО, если нельзя.\n",
        "'''"
      ]
    },
    {
      "cell_type": "code",
      "execution_count": 135,
      "id": "5f36a5d4",
      "metadata": {},
      "outputs": [],
      "source": [
        "from tqdm import tqdm\n",
        "\n",
        "tqdm.pandas()\n",
        "def query_gpt_answer(row, prompt=base_string):\n",
        "    completion = yandex_gpt.get_sync_completion(messages=[{'role': 'user', 'text': prompt+row['q'] + ' Правильный ответ:'+ row['a'] + 'Ответ команды:' + row['predict'] }])\n",
        "    sleep(0.2)\n",
        "    return completion\n"
      ]
    },
    {
      "cell_type": "code",
      "execution_count": 158,
      "id": "0d570868",
      "metadata": {},
      "outputs": [],
      "source": [
        "from langchain.llms.base import LLM\n",
        "from typing import List, Optional, Dict, Any\n",
        "from yandex_gpt import YandexGPTConfigManagerForAPIKey, YandexGPT\n",
        "from env_vars import *\n",
        "\n",
        "config_manager = YandexGPTConfigManagerForAPIKey(\n",
        "    model_type=\"yandexgpt\",\n",
        "    catalog_id=CATALOGUE_ID,\n",
        "    api_key=API_KEY\n",
        ")\n",
        "\n",
        "class YandexGPTWrapper(LLM):\n",
        "    # def __init__(self, model_type: str, catalog_id: str, api_key: str):\n",
        "    #     \"\"\"\n",
        "    #     Initializes the YandexGPT wrapper with the given configuration.\n",
        "\n",
        "    #     Args:\n",
        "    #         model_type (str): The model type (e.g., \"yandexgpt\").\n",
        "    #         catalog_id (str): The catalog ID.\n",
        "    #         api_key (str): The API key for accessing the Yandex GPT API.\n",
        "    #     \"\"\"\n",
        "    config_manager: YandexGPTConfigManagerForAPIKey \n",
        "    yandex_gpt: YandexGPT = YandexGPT(config_manager=config_manager)\n",
        "        \n",
        "    @property\n",
        "    def _llm_type(self) -> str:\n",
        "        return \"yandex_gpt_wrapper_because_the_langchain_yandexgpt_wont_let_authorize\"\n",
        "\n",
        "    def _call(self, prompt: str, stop: Optional[List[str]] = None) -> str:\n",
        "        \"\"\"\n",
        "        Calls the YandexGPT model with the given prompt and returns the completion.\n",
        "\n",
        "        Args:\n",
        "            prompt (str): The input prompt for the model.\n",
        "            stop (Optional[List[str]]): Optional stop tokens. Not used in this implementation.\n",
        "\n",
        "        Returns:\n",
        "            str: The completion text returned by the YandexGPT model.\n",
        "        \"\"\"\n",
        "        messages = [{'role': 'user', 'text': prompt}]\n",
        "        completion = self.yandex_gpt.get_async_completion(messages=messages)\n",
        "        return completion\n",
        "\n",
        "    @property\n",
        "    def identifying_params(self) -> Dict[str, Any]:\n",
        "        \"\"\"\n",
        "        Returns the identifying parameters for the model instance.\n",
        "\n",
        "        Returns:\n",
        "            Dict[str, Any]: The parameters used to initialize the model.\n",
        "        \"\"\"\n",
        "        return {\n",
        "            \"model_type\": self.config_manager.model_type,\n",
        "            \"catalog_id\": self.config_manager.catalog_id,\n",
        "            \"api_key\": self.config_manager.api_key\n",
        "        }\n",
        "\n",
        "# Usage example:\n",
        "# Assuming you have the CATALOGUE_ID and API_KEY already defined\n",
        "yandex_llm = YandexGPTWrapper(config_manager=config_manager)\n",
        "# response = yandex_llm(\"Я дам тебе вопрос из 'Что? Где? Когда?' и ответ к нему. Тебе нужно сымитировать рассуждения знатоков. Их диалог. Выдели важные подсказки из вопроса, приводи к ним ассоциации. Используй в том числе идеи из поп-культуры мифологии литературы и мемов и популярные образы. Рассуждай вслух, долго и по шагам и в конце приди к ответу. Бог на одном юмористическом рисунке несколько раз называет ЕГО “хорошим мальчиком”. Назовите ЕГО. Ответ, к которому тебе нужно прийти: Цербер.\")\n",
        "# print(response)\n"
      ]
    },
    {
      "cell_type": "code",
      "execution_count": 137,
      "id": "38af0833",
      "metadata": {},
      "outputs": [],
      "source": [
        "from langchain.chains import LLMChain\n",
        "from langchain_community.llms import YandexGPT\n",
        "from langchain_core.prompts import PromptTemplate\n",
        "template = \"What is the capital of {country}?\"\n",
        "prompt = PromptTemplate.from_template(base_string)\n",
        "# help(YandexGPT)"
      ]
    },
    {
      "cell_type": "code",
      "execution_count": 138,
      "id": "8e4c3dec",
      "metadata": {},
      "outputs": [
        {
          "data": {
            "text/plain": [
              "PromptTemplate(input_variables=['a', 'pred', 'q'], template='\\nТы профессиональный игрок в Что? Где? Когда? Ты проверяешь ответы, которые дали команды.\\n\\nВопрос: {q}\\n\\nПравильный ответ: {a}\\n\\nОтвет, который дала команда: {pred}. \\n\\nТебе нужно сравнить правильный ответ с ответом команды и порассуждать, соответствует ли ответ команды правильному ответу в контексте вопроса. Обращай внимание на форму вопроса (т.е. что именно спрашивают)! \\n\\nСначала рассуждения!\\nПотом, после рассуждений ты пишешь свой вердикт: #ВЕРНО, если ответ можно зачесть или #НЕВЕРНО, если нельзя.\\n')"
            ]
          },
          "execution_count": 138,
          "metadata": {},
          "output_type": "execute_result"
        }
      ],
      "source": [
        "prompt"
      ]
    },
    {
      "cell_type": "code",
      "execution_count": 139,
      "id": "d2da9fb9",
      "metadata": {},
      "outputs": [],
      "source": [
        "# llm_chain = {\"\"} | prompt | yandex_llm"
      ]
    },
    {
      "cell_type": "code",
      "execution_count": 140,
      "id": "03f552be",
      "metadata": {},
      "outputs": [],
      "source": [
        "# country = \"Russia\"\n",
        "\n",
        "# res = llm_chain.invoke(country)\n",
        "# res"
      ]
    },
    {
      "cell_type": "code",
      "execution_count": null,
      "id": "4c01e952",
      "metadata": {},
      "outputs": [],
      "source": [
        "# %pip install asyncio\n",
        "# import asyncio\n",
        "\n",
        "# async def apply_async(df, func):\n",
        "#     loop = asyncio.get_event_loop()\n",
        "#     tasks = [loop.create_task(func(row)) for _, row in df.iterrows()]\n",
        "#     return await asyncio.gather(*tasks)\n"
      ]
    },
    {
      "cell_type": "code",
      "execution_count": 168,
      "id": "2e44b0ab",
      "metadata": {},
      "outputs": [],
      "source": [
        "# %pip install asyncio\n",
        "import asyncio\n",
        "\n",
        "# def apply_async(df):\n",
        "#     loop = asyncio.get_event_loop()\n",
        "#     tasks = []\n",
        "#     for _, row in df.iterrows():\n",
        "#         llm_chain = {\"q\": lambda _: row['q'], \"a\": lambda _: row['a'], \"pred\":lambda _:  row['predict']} | prompt | yandex_llm\n",
        "#         tasks.append(loop.create_task(llm_chain.invoke(\"\")))\n",
        "#     # tasks = [loop.create_task(func(row)) for _, row in df.iterrows()]\n",
        "#     return asyncio.gather(*tasks)\n",
        "\n",
        "async def apply_async(df, func):\n",
        "    loop = asyncio.get_event_loop()\n",
        "    tasks = [loop.create_task(func(row)) for _, row in df.iterrows()]\n",
        "    return await asyncio.gather(*tasks)\n",
        "\n",
        "\n",
        "\n",
        "def func(row):\n",
        "        llm_chain = {\"q\": lambda _: row['q'], \"a\": lambda _: row['a'], \"pred\":lambda _:  row['predict']} | prompt | yandex_llm\n",
        "        print(llm_chain)\n",
        "        sleep(0.1)\n",
        "        # res = llm_chain.invoke(\"\")\n",
        "        return \"\"\n",
        "    # tasks = [loop.create_task(func(row)) for _, row in df.iterrows()]\n",
        "    # return asyncio.gather(*tasks)"
      ]
    },
    {
      "cell_type": "code",
      "execution_count": 169,
      "id": "855bd4e9",
      "metadata": {},
      "outputs": [
        {
          "name": "stderr",
          "output_type": "stream",
          "text": [
            "  0%|          | 2/400 [00:00<00:27, 14.49it/s]"
          ]
        },
        {
          "name": "stdout",
          "output_type": "stream",
          "text": [
            "first={\n",
            "  q: RunnableLambda(...),\n",
            "  a: RunnableLambda(...),\n",
            "  pred: RunnableLambda(...)\n",
            "} middle=[PromptTemplate(input_variables=['a', 'pred', 'q'], template='\\nТы профессиональный игрок в Что? Где? Когда? Ты проверяешь ответы, которые дали команды.\\n\\nВопрос: {q}\\n\\nПравильный ответ: {a}\\n\\nОтвет, который дала команда: {pred}. \\n\\nТебе нужно сравнить правильный ответ с ответом команды и порассуждать, соответствует ли ответ команды правильному ответу в контексте вопроса. Обращай внимание на форму вопроса (т.е. что именно спрашивают)! \\n\\nСначала рассуждения!\\nПотом, после рассуждений ты пишешь свой вердикт: #ВЕРНО, если ответ можно зачесть или #НЕВЕРНО, если нельзя.\\n')] last=YandexGPTWrapper(config_manager=<yandex_gpt.config_manager.YandexGPTConfigManagerForAPIKey object at 0x000002A588DAFE90>, yandex_gpt=<yandex_gpt.yandex_gpt.YandexGPT object at 0x000002A5893AAED0>)\n"
          ]
        },
        {
          "name": "stdout",
          "output_type": "stream",
          "text": [
            "first={\n",
            "  q: RunnableLambda(...),\n",
            "  a: RunnableLambda(...),\n",
            "  pred: RunnableLambda(...)\n",
            "} middle=[PromptTemplate(input_variables=['a', 'pred', 'q'], template='\\nТы профессиональный игрок в Что? Где? Когда? Ты проверяешь ответы, которые дали команды.\\n\\nВопрос: {q}\\n\\nПравильный ответ: {a}\\n\\nОтвет, который дала команда: {pred}. \\n\\nТебе нужно сравнить правильный ответ с ответом команды и порассуждать, соответствует ли ответ команды правильному ответу в контексте вопроса. Обращай внимание на форму вопроса (т.е. что именно спрашивают)! \\n\\nСначала рассуждения!\\nПотом, после рассуждений ты пишешь свой вердикт: #ВЕРНО, если ответ можно зачесть или #НЕВЕРНО, если нельзя.\\n')] last=YandexGPTWrapper(config_manager=<yandex_gpt.config_manager.YandexGPTConfigManagerForAPIKey object at 0x000002A588DAFE90>, yandex_gpt=<yandex_gpt.yandex_gpt.YandexGPT object at 0x000002A5893AAED0>)\n",
            "first={\n",
            "  q: RunnableLambda(...),\n",
            "  a: RunnableLambda(...),\n",
            "  pred: RunnableLambda(...)\n",
            "} middle=[PromptTemplate(input_variables=['a', 'pred', 'q'], template='\\nТы профессиональный игрок в Что? Где? Когда? Ты проверяешь ответы, которые дали команды.\\n\\nВопрос: {q}\\n\\nПравильный ответ: {a}\\n\\nОтвет, который дала команда: {pred}. \\n\\nТебе нужно сравнить правильный ответ с ответом команды и порассуждать, соответствует ли ответ команды правильному ответу в контексте вопроса. Обращай внимание на форму вопроса (т.е. что именно спрашивают)! \\n\\nСначала рассуждения!\\nПотом, после рассуждений ты пишешь свой вердикт: #ВЕРНО, если ответ можно зачесть или #НЕВЕРНО, если нельзя.\\n')] last=YandexGPTWrapper(config_manager=<yandex_gpt.config_manager.YandexGPTConfigManagerForAPIKey object at 0x000002A588DAFE90>, yandex_gpt=<yandex_gpt.yandex_gpt.YandexGPT object at 0x000002A5893AAED0>)\n"
          ]
        },
        {
          "name": "stderr",
          "output_type": "stream",
          "text": [
            "  1%|          | 4/400 [00:00<00:38, 10.22it/s]"
          ]
        },
        {
          "name": "stdout",
          "output_type": "stream",
          "text": [
            "first={\n",
            "  q: RunnableLambda(...),\n",
            "  a: RunnableLambda(...),\n",
            "  pred: RunnableLambda(...)\n",
            "} middle=[PromptTemplate(input_variables=['a', 'pred', 'q'], template='\\nТы профессиональный игрок в Что? Где? Когда? Ты проверяешь ответы, которые дали команды.\\n\\nВопрос: {q}\\n\\nПравильный ответ: {a}\\n\\nОтвет, который дала команда: {pred}. \\n\\nТебе нужно сравнить правильный ответ с ответом команды и порассуждать, соответствует ли ответ команды правильному ответу в контексте вопроса. Обращай внимание на форму вопроса (т.е. что именно спрашивают)! \\n\\nСначала рассуждения!\\nПотом, после рассуждений ты пишешь свой вердикт: #ВЕРНО, если ответ можно зачесть или #НЕВЕРНО, если нельзя.\\n')] last=YandexGPTWrapper(config_manager=<yandex_gpt.config_manager.YandexGPTConfigManagerForAPIKey object at 0x000002A588DAFE90>, yandex_gpt=<yandex_gpt.yandex_gpt.YandexGPT object at 0x000002A5893AAED0>)\n",
            "first={\n",
            "  q: RunnableLambda(...),\n",
            "  a: RunnableLambda(...),\n",
            "  pred: RunnableLambda(...)\n",
            "} middle=[PromptTemplate(input_variables=['a', 'pred', 'q'], template='\\nТы профессиональный игрок в Что? Где? Когда? Ты проверяешь ответы, которые дали команды.\\n\\nВопрос: {q}\\n\\nПравильный ответ: {a}\\n\\nОтвет, который дала команда: {pred}. \\n\\nТебе нужно сравнить правильный ответ с ответом команды и порассуждать, соответствует ли ответ команды правильному ответу в контексте вопроса. Обращай внимание на форму вопроса (т.е. что именно спрашивают)! \\n\\nСначала рассуждения!\\nПотом, после рассуждений ты пишешь свой вердикт: #ВЕРНО, если ответ можно зачесть или #НЕВЕРНО, если нельзя.\\n')] last=YandexGPTWrapper(config_manager=<yandex_gpt.config_manager.YandexGPTConfigManagerForAPIKey object at 0x000002A588DAFE90>, yandex_gpt=<yandex_gpt.yandex_gpt.YandexGPT object at 0x000002A5893AAED0>)\n"
          ]
        },
        {
          "name": "stderr",
          "output_type": "stream",
          "text": [
            "  2%|▏         | 6/400 [00:00<00:40,  9.63it/s]"
          ]
        },
        {
          "name": "stdout",
          "output_type": "stream",
          "text": [
            "first={\n",
            "  q: RunnableLambda(...),\n",
            "  a: RunnableLambda(...),\n",
            "  pred: RunnableLambda(...)\n",
            "} middle=[PromptTemplate(input_variables=['a', 'pred', 'q'], template='\\nТы профессиональный игрок в Что? Где? Когда? Ты проверяешь ответы, которые дали команды.\\n\\nВопрос: {q}\\n\\nПравильный ответ: {a}\\n\\nОтвет, который дала команда: {pred}. \\n\\nТебе нужно сравнить правильный ответ с ответом команды и порассуждать, соответствует ли ответ команды правильному ответу в контексте вопроса. Обращай внимание на форму вопроса (т.е. что именно спрашивают)! \\n\\nСначала рассуждения!\\nПотом, после рассуждений ты пишешь свой вердикт: #ВЕРНО, если ответ можно зачесть или #НЕВЕРНО, если нельзя.\\n')] last=YandexGPTWrapper(config_manager=<yandex_gpt.config_manager.YandexGPTConfigManagerForAPIKey object at 0x000002A588DAFE90>, yandex_gpt=<yandex_gpt.yandex_gpt.YandexGPT object at 0x000002A5893AAED0>)\n",
            "first={\n",
            "  q: RunnableLambda(...),\n",
            "  a: RunnableLambda(...),\n",
            "  pred: RunnableLambda(...)\n",
            "} middle=[PromptTemplate(input_variables=['a', 'pred', 'q'], template='\\nТы профессиональный игрок в Что? Где? Когда? Ты проверяешь ответы, которые дали команды.\\n\\nВопрос: {q}\\n\\nПравильный ответ: {a}\\n\\nОтвет, который дала команда: {pred}. \\n\\nТебе нужно сравнить правильный ответ с ответом команды и порассуждать, соответствует ли ответ команды правильному ответу в контексте вопроса. Обращай внимание на форму вопроса (т.е. что именно спрашивают)! \\n\\nСначала рассуждения!\\nПотом, после рассуждений ты пишешь свой вердикт: #ВЕРНО, если ответ можно зачесть или #НЕВЕРНО, если нельзя.\\n')] last=YandexGPTWrapper(config_manager=<yandex_gpt.config_manager.YandexGPTConfigManagerForAPIKey object at 0x000002A588DAFE90>, yandex_gpt=<yandex_gpt.yandex_gpt.YandexGPT object at 0x000002A5893AAED0>)\n"
          ]
        },
        {
          "name": "stderr",
          "output_type": "stream",
          "text": [
            "  2%|▏         | 8/400 [00:00<00:43,  9.02it/s]"
          ]
        },
        {
          "name": "stdout",
          "output_type": "stream",
          "text": [
            "first={\n",
            "  q: RunnableLambda(...),\n",
            "  a: RunnableLambda(...),\n",
            "  pred: RunnableLambda(...)\n",
            "} middle=[PromptTemplate(input_variables=['a', 'pred', 'q'], template='\\nТы профессиональный игрок в Что? Где? Когда? Ты проверяешь ответы, которые дали команды.\\n\\nВопрос: {q}\\n\\nПравильный ответ: {a}\\n\\nОтвет, который дала команда: {pred}. \\n\\nТебе нужно сравнить правильный ответ с ответом команды и порассуждать, соответствует ли ответ команды правильному ответу в контексте вопроса. Обращай внимание на форму вопроса (т.е. что именно спрашивают)! \\n\\nСначала рассуждения!\\nПотом, после рассуждений ты пишешь свой вердикт: #ВЕРНО, если ответ можно зачесть или #НЕВЕРНО, если нельзя.\\n')] last=YandexGPTWrapper(config_manager=<yandex_gpt.config_manager.YandexGPTConfigManagerForAPIKey object at 0x000002A588DAFE90>, yandex_gpt=<yandex_gpt.yandex_gpt.YandexGPT object at 0x000002A5893AAED0>)\n"
          ]
        },
        {
          "name": "stderr",
          "output_type": "stream",
          "text": [
            "  2%|▏         | 9/400 [00:00<00:44,  8.84it/s]"
          ]
        },
        {
          "name": "stdout",
          "output_type": "stream",
          "text": [
            "first={\n",
            "  q: RunnableLambda(...),\n",
            "  a: RunnableLambda(...),\n",
            "  pred: RunnableLambda(...)\n",
            "} middle=[PromptTemplate(input_variables=['a', 'pred', 'q'], template='\\nТы профессиональный игрок в Что? Где? Когда? Ты проверяешь ответы, которые дали команды.\\n\\nВопрос: {q}\\n\\nПравильный ответ: {a}\\n\\nОтвет, который дала команда: {pred}. \\n\\nТебе нужно сравнить правильный ответ с ответом команды и порассуждать, соответствует ли ответ команды правильному ответу в контексте вопроса. Обращай внимание на форму вопроса (т.е. что именно спрашивают)! \\n\\nСначала рассуждения!\\nПотом, после рассуждений ты пишешь свой вердикт: #ВЕРНО, если ответ можно зачесть или #НЕВЕРНО, если нельзя.\\n')] last=YandexGPTWrapper(config_manager=<yandex_gpt.config_manager.YandexGPTConfigManagerForAPIKey object at 0x000002A588DAFE90>, yandex_gpt=<yandex_gpt.yandex_gpt.YandexGPT object at 0x000002A5893AAED0>)\n"
          ]
        },
        {
          "name": "stderr",
          "output_type": "stream",
          "text": [
            "  2%|▎         | 10/400 [00:01<00:44,  8.73it/s]"
          ]
        },
        {
          "name": "stdout",
          "output_type": "stream",
          "text": [
            "first={\n",
            "  q: RunnableLambda(...),\n",
            "  a: RunnableLambda(...),\n",
            "  pred: RunnableLambda(...)\n",
            "} middle=[PromptTemplate(input_variables=['a', 'pred', 'q'], template='\\nТы профессиональный игрок в Что? Где? Когда? Ты проверяешь ответы, которые дали команды.\\n\\nВопрос: {q}\\n\\nПравильный ответ: {a}\\n\\nОтвет, который дала команда: {pred}. \\n\\nТебе нужно сравнить правильный ответ с ответом команды и порассуждать, соответствует ли ответ команды правильному ответу в контексте вопроса. Обращай внимание на форму вопроса (т.е. что именно спрашивают)! \\n\\nСначала рассуждения!\\nПотом, после рассуждений ты пишешь свой вердикт: #ВЕРНО, если ответ можно зачесть или #НЕВЕРНО, если нельзя.\\n')] last=YandexGPTWrapper(config_manager=<yandex_gpt.config_manager.YandexGPTConfigManagerForAPIKey object at 0x000002A588DAFE90>, yandex_gpt=<yandex_gpt.yandex_gpt.YandexGPT object at 0x000002A5893AAED0>)\n"
          ]
        },
        {
          "name": "stderr",
          "output_type": "stream",
          "text": [
            "  3%|▎         | 11/400 [00:01<00:44,  8.72it/s]"
          ]
        },
        {
          "name": "stdout",
          "output_type": "stream",
          "text": [
            "first={\n",
            "  q: RunnableLambda(...),\n",
            "  a: RunnableLambda(...),\n",
            "  pred: RunnableLambda(...)\n",
            "} middle=[PromptTemplate(input_variables=['a', 'pred', 'q'], template='\\nТы профессиональный игрок в Что? Где? Когда? Ты проверяешь ответы, которые дали команды.\\n\\nВопрос: {q}\\n\\nПравильный ответ: {a}\\n\\nОтвет, который дала команда: {pred}. \\n\\nТебе нужно сравнить правильный ответ с ответом команды и порассуждать, соответствует ли ответ команды правильному ответу в контексте вопроса. Обращай внимание на форму вопроса (т.е. что именно спрашивают)! \\n\\nСначала рассуждения!\\nПотом, после рассуждений ты пишешь свой вердикт: #ВЕРНО, если ответ можно зачесть или #НЕВЕРНО, если нельзя.\\n')] last=YandexGPTWrapper(config_manager=<yandex_gpt.config_manager.YandexGPTConfigManagerForAPIKey object at 0x000002A588DAFE90>, yandex_gpt=<yandex_gpt.yandex_gpt.YandexGPT object at 0x000002A5893AAED0>)\n"
          ]
        },
        {
          "name": "stderr",
          "output_type": "stream",
          "text": [
            "  3%|▎         | 12/400 [00:01<00:44,  8.70it/s]"
          ]
        },
        {
          "name": "stdout",
          "output_type": "stream",
          "text": [
            "first={\n",
            "  q: RunnableLambda(...),\n",
            "  a: RunnableLambda(...),\n",
            "  pred: RunnableLambda(...)\n",
            "} middle=[PromptTemplate(input_variables=['a', 'pred', 'q'], template='\\nТы профессиональный игрок в Что? Где? Когда? Ты проверяешь ответы, которые дали команды.\\n\\nВопрос: {q}\\n\\nПравильный ответ: {a}\\n\\nОтвет, который дала команда: {pred}. \\n\\nТебе нужно сравнить правильный ответ с ответом команды и порассуждать, соответствует ли ответ команды правильному ответу в контексте вопроса. Обращай внимание на форму вопроса (т.е. что именно спрашивают)! \\n\\nСначала рассуждения!\\nПотом, после рассуждений ты пишешь свой вердикт: #ВЕРНО, если ответ можно зачесть или #НЕВЕРНО, если нельзя.\\n')] last=YandexGPTWrapper(config_manager=<yandex_gpt.config_manager.YandexGPTConfigManagerForAPIKey object at 0x000002A588DAFE90>, yandex_gpt=<yandex_gpt.yandex_gpt.YandexGPT object at 0x000002A5893AAED0>)\n"
          ]
        },
        {
          "name": "stderr",
          "output_type": "stream",
          "text": [
            "  3%|▎         | 13/400 [00:01<00:43,  8.80it/s]"
          ]
        },
        {
          "name": "stdout",
          "output_type": "stream",
          "text": [
            "first={\n",
            "  q: RunnableLambda(...),\n",
            "  a: RunnableLambda(...),\n",
            "  pred: RunnableLambda(...)\n",
            "} middle=[PromptTemplate(input_variables=['a', 'pred', 'q'], template='\\nТы профессиональный игрок в Что? Где? Когда? Ты проверяешь ответы, которые дали команды.\\n\\nВопрос: {q}\\n\\nПравильный ответ: {a}\\n\\nОтвет, который дала команда: {pred}. \\n\\nТебе нужно сравнить правильный ответ с ответом команды и порассуждать, соответствует ли ответ команды правильному ответу в контексте вопроса. Обращай внимание на форму вопроса (т.е. что именно спрашивают)! \\n\\nСначала рассуждения!\\nПотом, после рассуждений ты пишешь свой вердикт: #ВЕРНО, если ответ можно зачесть или #НЕВЕРНО, если нельзя.\\n')] last=YandexGPTWrapper(config_manager=<yandex_gpt.config_manager.YandexGPTConfigManagerForAPIKey object at 0x000002A588DAFE90>, yandex_gpt=<yandex_gpt.yandex_gpt.YandexGPT object at 0x000002A5893AAED0>)\n"
          ]
        },
        {
          "name": "stderr",
          "output_type": "stream",
          "text": [
            "  4%|▎         | 14/400 [00:01<00:43,  8.81it/s]"
          ]
        },
        {
          "name": "stdout",
          "output_type": "stream",
          "text": [
            "first={\n",
            "  q: RunnableLambda(...),\n",
            "  a: RunnableLambda(...),\n",
            "  pred: RunnableLambda(...)\n",
            "} middle=[PromptTemplate(input_variables=['a', 'pred', 'q'], template='\\nТы профессиональный игрок в Что? Где? Когда? Ты проверяешь ответы, которые дали команды.\\n\\nВопрос: {q}\\n\\nПравильный ответ: {a}\\n\\nОтвет, который дала команда: {pred}. \\n\\nТебе нужно сравнить правильный ответ с ответом команды и порассуждать, соответствует ли ответ команды правильному ответу в контексте вопроса. Обращай внимание на форму вопроса (т.е. что именно спрашивают)! \\n\\nСначала рассуждения!\\nПотом, после рассуждений ты пишешь свой вердикт: #ВЕРНО, если ответ можно зачесть или #НЕВЕРНО, если нельзя.\\n')] last=YandexGPTWrapper(config_manager=<yandex_gpt.config_manager.YandexGPTConfigManagerForAPIKey object at 0x000002A588DAFE90>, yandex_gpt=<yandex_gpt.yandex_gpt.YandexGPT object at 0x000002A5893AAED0>)\n"
          ]
        },
        {
          "name": "stderr",
          "output_type": "stream",
          "text": [
            "  4%|▍         | 15/400 [00:01<00:43,  8.76it/s]"
          ]
        },
        {
          "name": "stdout",
          "output_type": "stream",
          "text": [
            "first={\n",
            "  q: RunnableLambda(...),\n",
            "  a: RunnableLambda(...),\n",
            "  pred: RunnableLambda(...)\n",
            "} middle=[PromptTemplate(input_variables=['a', 'pred', 'q'], template='\\nТы профессиональный игрок в Что? Где? Когда? Ты проверяешь ответы, которые дали команды.\\n\\nВопрос: {q}\\n\\nПравильный ответ: {a}\\n\\nОтвет, который дала команда: {pred}. \\n\\nТебе нужно сравнить правильный ответ с ответом команды и порассуждать, соответствует ли ответ команды правильному ответу в контексте вопроса. Обращай внимание на форму вопроса (т.е. что именно спрашивают)! \\n\\nСначала рассуждения!\\nПотом, после рассуждений ты пишешь свой вердикт: #ВЕРНО, если ответ можно зачесть или #НЕВЕРНО, если нельзя.\\n')] last=YandexGPTWrapper(config_manager=<yandex_gpt.config_manager.YandexGPTConfigManagerForAPIKey object at 0x000002A588DAFE90>, yandex_gpt=<yandex_gpt.yandex_gpt.YandexGPT object at 0x000002A5893AAED0>)\n"
          ]
        },
        {
          "name": "stderr",
          "output_type": "stream",
          "text": [
            "  4%|▍         | 16/400 [00:01<00:43,  8.74it/s]"
          ]
        },
        {
          "name": "stdout",
          "output_type": "stream",
          "text": [
            "first={\n",
            "  q: RunnableLambda(...),\n",
            "  a: RunnableLambda(...),\n",
            "  pred: RunnableLambda(...)\n",
            "} middle=[PromptTemplate(input_variables=['a', 'pred', 'q'], template='\\nТы профессиональный игрок в Что? Где? Когда? Ты проверяешь ответы, которые дали команды.\\n\\nВопрос: {q}\\n\\nПравильный ответ: {a}\\n\\nОтвет, который дала команда: {pred}. \\n\\nТебе нужно сравнить правильный ответ с ответом команды и порассуждать, соответствует ли ответ команды правильному ответу в контексте вопроса. Обращай внимание на форму вопроса (т.е. что именно спрашивают)! \\n\\nСначала рассуждения!\\nПотом, после рассуждений ты пишешь свой вердикт: #ВЕРНО, если ответ можно зачесть или #НЕВЕРНО, если нельзя.\\n')] last=YandexGPTWrapper(config_manager=<yandex_gpt.config_manager.YandexGPTConfigManagerForAPIKey object at 0x000002A588DAFE90>, yandex_gpt=<yandex_gpt.yandex_gpt.YandexGPT object at 0x000002A5893AAED0>)\n"
          ]
        },
        {
          "name": "stderr",
          "output_type": "stream",
          "text": [
            "  4%|▍         | 17/400 [00:01<00:44,  8.59it/s]"
          ]
        },
        {
          "name": "stdout",
          "output_type": "stream",
          "text": [
            "first={\n",
            "  q: RunnableLambda(...),\n",
            "  a: RunnableLambda(...),\n",
            "  pred: RunnableLambda(...)\n",
            "} middle=[PromptTemplate(input_variables=['a', 'pred', 'q'], template='\\nТы профессиональный игрок в Что? Где? Когда? Ты проверяешь ответы, которые дали команды.\\n\\nВопрос: {q}\\n\\nПравильный ответ: {a}\\n\\nОтвет, который дала команда: {pred}. \\n\\nТебе нужно сравнить правильный ответ с ответом команды и порассуждать, соответствует ли ответ команды правильному ответу в контексте вопроса. Обращай внимание на форму вопроса (т.е. что именно спрашивают)! \\n\\nСначала рассуждения!\\nПотом, после рассуждений ты пишешь свой вердикт: #ВЕРНО, если ответ можно зачесть или #НЕВЕРНО, если нельзя.\\n')] last=YandexGPTWrapper(config_manager=<yandex_gpt.config_manager.YandexGPTConfigManagerForAPIKey object at 0x000002A588DAFE90>, yandex_gpt=<yandex_gpt.yandex_gpt.YandexGPT object at 0x000002A5893AAED0>)\n"
          ]
        },
        {
          "name": "stderr",
          "output_type": "stream",
          "text": [
            "  4%|▍         | 18/400 [00:02<00:44,  8.54it/s]"
          ]
        },
        {
          "name": "stdout",
          "output_type": "stream",
          "text": [
            "first={\n",
            "  q: RunnableLambda(...),\n",
            "  a: RunnableLambda(...),\n",
            "  pred: RunnableLambda(...)\n",
            "} middle=[PromptTemplate(input_variables=['a', 'pred', 'q'], template='\\nТы профессиональный игрок в Что? Где? Когда? Ты проверяешь ответы, которые дали команды.\\n\\nВопрос: {q}\\n\\nПравильный ответ: {a}\\n\\nОтвет, который дала команда: {pred}. \\n\\nТебе нужно сравнить правильный ответ с ответом команды и порассуждать, соответствует ли ответ команды правильному ответу в контексте вопроса. Обращай внимание на форму вопроса (т.е. что именно спрашивают)! \\n\\nСначала рассуждения!\\nПотом, после рассуждений ты пишешь свой вердикт: #ВЕРНО, если ответ можно зачесть или #НЕВЕРНО, если нельзя.\\n')] last=YandexGPTWrapper(config_manager=<yandex_gpt.config_manager.YandexGPTConfigManagerForAPIKey object at 0x000002A588DAFE90>, yandex_gpt=<yandex_gpt.yandex_gpt.YandexGPT object at 0x000002A5893AAED0>)\n"
          ]
        },
        {
          "name": "stderr",
          "output_type": "stream",
          "text": [
            "  5%|▍         | 19/400 [00:02<00:45,  8.41it/s]"
          ]
        },
        {
          "name": "stdout",
          "output_type": "stream",
          "text": [
            "first={\n",
            "  q: RunnableLambda(...),\n",
            "  a: RunnableLambda(...),\n",
            "  pred: RunnableLambda(...)\n",
            "} middle=[PromptTemplate(input_variables=['a', 'pred', 'q'], template='\\nТы профессиональный игрок в Что? Где? Когда? Ты проверяешь ответы, которые дали команды.\\n\\nВопрос: {q}\\n\\nПравильный ответ: {a}\\n\\nОтвет, который дала команда: {pred}. \\n\\nТебе нужно сравнить правильный ответ с ответом команды и порассуждать, соответствует ли ответ команды правильному ответу в контексте вопроса. Обращай внимание на форму вопроса (т.е. что именно спрашивают)! \\n\\nСначала рассуждения!\\nПотом, после рассуждений ты пишешь свой вердикт: #ВЕРНО, если ответ можно зачесть или #НЕВЕРНО, если нельзя.\\n')] last=YandexGPTWrapper(config_manager=<yandex_gpt.config_manager.YandexGPTConfigManagerForAPIKey object at 0x000002A588DAFE90>, yandex_gpt=<yandex_gpt.yandex_gpt.YandexGPT object at 0x000002A5893AAED0>)\n"
          ]
        },
        {
          "name": "stderr",
          "output_type": "stream",
          "text": [
            "  5%|▌         | 20/400 [00:02<00:45,  8.43it/s]"
          ]
        },
        {
          "name": "stdout",
          "output_type": "stream",
          "text": [
            "first={\n",
            "  q: RunnableLambda(...),\n",
            "  a: RunnableLambda(...),\n",
            "  pred: RunnableLambda(...)\n",
            "} middle=[PromptTemplate(input_variables=['a', 'pred', 'q'], template='\\nТы профессиональный игрок в Что? Где? Когда? Ты проверяешь ответы, которые дали команды.\\n\\nВопрос: {q}\\n\\nПравильный ответ: {a}\\n\\nОтвет, который дала команда: {pred}. \\n\\nТебе нужно сравнить правильный ответ с ответом команды и порассуждать, соответствует ли ответ команды правильному ответу в контексте вопроса. Обращай внимание на форму вопроса (т.е. что именно спрашивают)! \\n\\nСначала рассуждения!\\nПотом, после рассуждений ты пишешь свой вердикт: #ВЕРНО, если ответ можно зачесть или #НЕВЕРНО, если нельзя.\\n')] last=YandexGPTWrapper(config_manager=<yandex_gpt.config_manager.YandexGPTConfigManagerForAPIKey object at 0x000002A588DAFE90>, yandex_gpt=<yandex_gpt.yandex_gpt.YandexGPT object at 0x000002A5893AAED0>)\n"
          ]
        },
        {
          "name": "stderr",
          "output_type": "stream",
          "text": [
            "  5%|▌         | 21/400 [00:02<00:45,  8.42it/s]"
          ]
        },
        {
          "name": "stdout",
          "output_type": "stream",
          "text": [
            "first={\n",
            "  q: RunnableLambda(...),\n",
            "  a: RunnableLambda(...),\n",
            "  pred: RunnableLambda(...)\n",
            "} middle=[PromptTemplate(input_variables=['a', 'pred', 'q'], template='\\nТы профессиональный игрок в Что? Где? Когда? Ты проверяешь ответы, которые дали команды.\\n\\nВопрос: {q}\\n\\nПравильный ответ: {a}\\n\\nОтвет, который дала команда: {pred}. \\n\\nТебе нужно сравнить правильный ответ с ответом команды и порассуждать, соответствует ли ответ команды правильному ответу в контексте вопроса. Обращай внимание на форму вопроса (т.е. что именно спрашивают)! \\n\\nСначала рассуждения!\\nПотом, после рассуждений ты пишешь свой вердикт: #ВЕРНО, если ответ можно зачесть или #НЕВЕРНО, если нельзя.\\n')] last=YandexGPTWrapper(config_manager=<yandex_gpt.config_manager.YandexGPTConfigManagerForAPIKey object at 0x000002A588DAFE90>, yandex_gpt=<yandex_gpt.yandex_gpt.YandexGPT object at 0x000002A5893AAED0>)\n"
          ]
        },
        {
          "name": "stderr",
          "output_type": "stream",
          "text": [
            "  6%|▌         | 22/400 [00:02<00:44,  8.50it/s]"
          ]
        },
        {
          "name": "stdout",
          "output_type": "stream",
          "text": [
            "first={\n",
            "  q: RunnableLambda(...),\n",
            "  a: RunnableLambda(...),\n",
            "  pred: RunnableLambda(...)\n",
            "} middle=[PromptTemplate(input_variables=['a', 'pred', 'q'], template='\\nТы профессиональный игрок в Что? Где? Когда? Ты проверяешь ответы, которые дали команды.\\n\\nВопрос: {q}\\n\\nПравильный ответ: {a}\\n\\nОтвет, который дала команда: {pred}. \\n\\nТебе нужно сравнить правильный ответ с ответом команды и порассуждать, соответствует ли ответ команды правильному ответу в контексте вопроса. Обращай внимание на форму вопроса (т.е. что именно спрашивают)! \\n\\nСначала рассуждения!\\nПотом, после рассуждений ты пишешь свой вердикт: #ВЕРНО, если ответ можно зачесть или #НЕВЕРНО, если нельзя.\\n')] last=YandexGPTWrapper(config_manager=<yandex_gpt.config_manager.YandexGPTConfigManagerForAPIKey object at 0x000002A588DAFE90>, yandex_gpt=<yandex_gpt.yandex_gpt.YandexGPT object at 0x000002A5893AAED0>)\n"
          ]
        },
        {
          "name": "stderr",
          "output_type": "stream",
          "text": [
            "  6%|▌         | 23/400 [00:02<00:43,  8.57it/s]"
          ]
        },
        {
          "name": "stdout",
          "output_type": "stream",
          "text": [
            "first={\n",
            "  q: RunnableLambda(...),\n",
            "  a: RunnableLambda(...),\n",
            "  pred: RunnableLambda(...)\n",
            "} middle=[PromptTemplate(input_variables=['a', 'pred', 'q'], template='\\nТы профессиональный игрок в Что? Где? Когда? Ты проверяешь ответы, которые дали команды.\\n\\nВопрос: {q}\\n\\nПравильный ответ: {a}\\n\\nОтвет, который дала команда: {pred}. \\n\\nТебе нужно сравнить правильный ответ с ответом команды и порассуждать, соответствует ли ответ команды правильному ответу в контексте вопроса. Обращай внимание на форму вопроса (т.е. что именно спрашивают)! \\n\\nСначала рассуждения!\\nПотом, после рассуждений ты пишешь свой вердикт: #ВЕРНО, если ответ можно зачесть или #НЕВЕРНО, если нельзя.\\n')] last=YandexGPTWrapper(config_manager=<yandex_gpt.config_manager.YandexGPTConfigManagerForAPIKey object at 0x000002A588DAFE90>, yandex_gpt=<yandex_gpt.yandex_gpt.YandexGPT object at 0x000002A5893AAED0>)\n"
          ]
        },
        {
          "name": "stderr",
          "output_type": "stream",
          "text": [
            "  6%|▌         | 24/400 [00:02<00:43,  8.68it/s]"
          ]
        },
        {
          "name": "stdout",
          "output_type": "stream",
          "text": [
            "first={\n",
            "  q: RunnableLambda(...),\n",
            "  a: RunnableLambda(...),\n",
            "  pred: RunnableLambda(...)\n",
            "} middle=[PromptTemplate(input_variables=['a', 'pred', 'q'], template='\\nТы профессиональный игрок в Что? Где? Когда? Ты проверяешь ответы, которые дали команды.\\n\\nВопрос: {q}\\n\\nПравильный ответ: {a}\\n\\nОтвет, который дала команда: {pred}. \\n\\nТебе нужно сравнить правильный ответ с ответом команды и порассуждать, соответствует ли ответ команды правильному ответу в контексте вопроса. Обращай внимание на форму вопроса (т.е. что именно спрашивают)! \\n\\nСначала рассуждения!\\nПотом, после рассуждений ты пишешь свой вердикт: #ВЕРНО, если ответ можно зачесть или #НЕВЕРНО, если нельзя.\\n')] last=YandexGPTWrapper(config_manager=<yandex_gpt.config_manager.YandexGPTConfigManagerForAPIKey object at 0x000002A588DAFE90>, yandex_gpt=<yandex_gpt.yandex_gpt.YandexGPT object at 0x000002A5893AAED0>)\n"
          ]
        },
        {
          "name": "stderr",
          "output_type": "stream",
          "text": [
            "  6%|▋         | 25/400 [00:02<00:43,  8.61it/s]"
          ]
        },
        {
          "name": "stdout",
          "output_type": "stream",
          "text": [
            "first={\n",
            "  q: RunnableLambda(...),\n",
            "  a: RunnableLambda(...),\n",
            "  pred: RunnableLambda(...)\n",
            "} middle=[PromptTemplate(input_variables=['a', 'pred', 'q'], template='\\nТы профессиональный игрок в Что? Где? Когда? Ты проверяешь ответы, которые дали команды.\\n\\nВопрос: {q}\\n\\nПравильный ответ: {a}\\n\\nОтвет, который дала команда: {pred}. \\n\\nТебе нужно сравнить правильный ответ с ответом команды и порассуждать, соответствует ли ответ команды правильному ответу в контексте вопроса. Обращай внимание на форму вопроса (т.е. что именно спрашивают)! \\n\\nСначала рассуждения!\\nПотом, после рассуждений ты пишешь свой вердикт: #ВЕРНО, если ответ можно зачесть или #НЕВЕРНО, если нельзя.\\n')] last=YandexGPTWrapper(config_manager=<yandex_gpt.config_manager.YandexGPTConfigManagerForAPIKey object at 0x000002A588DAFE90>, yandex_gpt=<yandex_gpt.yandex_gpt.YandexGPT object at 0x000002A5893AAED0>)\n"
          ]
        },
        {
          "name": "stderr",
          "output_type": "stream",
          "text": [
            "  6%|▋         | 26/400 [00:02<00:46,  8.02it/s]"
          ]
        },
        {
          "name": "stdout",
          "output_type": "stream",
          "text": [
            "first={\n",
            "  q: RunnableLambda(...),\n",
            "  a: RunnableLambda(...),\n",
            "  pred: RunnableLambda(...)\n",
            "} middle=[PromptTemplate(input_variables=['a', 'pred', 'q'], template='\\nТы профессиональный игрок в Что? Где? Когда? Ты проверяешь ответы, которые дали команды.\\n\\nВопрос: {q}\\n\\nПравильный ответ: {a}\\n\\nОтвет, который дала команда: {pred}. \\n\\nТебе нужно сравнить правильный ответ с ответом команды и порассуждать, соответствует ли ответ команды правильному ответу в контексте вопроса. Обращай внимание на форму вопроса (т.е. что именно спрашивают)! \\n\\nСначала рассуждения!\\nПотом, после рассуждений ты пишешь свой вердикт: #ВЕРНО, если ответ можно зачесть или #НЕВЕРНО, если нельзя.\\n')] last=YandexGPTWrapper(config_manager=<yandex_gpt.config_manager.YandexGPTConfigManagerForAPIKey object at 0x000002A588DAFE90>, yandex_gpt=<yandex_gpt.yandex_gpt.YandexGPT object at 0x000002A5893AAED0>)\n"
          ]
        },
        {
          "name": "stderr",
          "output_type": "stream",
          "text": [
            "  7%|▋         | 27/400 [00:03<00:45,  8.15it/s]"
          ]
        },
        {
          "name": "stdout",
          "output_type": "stream",
          "text": [
            "first={\n",
            "  q: RunnableLambda(...),\n",
            "  a: RunnableLambda(...),\n",
            "  pred: RunnableLambda(...)\n",
            "} middle=[PromptTemplate(input_variables=['a', 'pred', 'q'], template='\\nТы профессиональный игрок в Что? Где? Когда? Ты проверяешь ответы, которые дали команды.\\n\\nВопрос: {q}\\n\\nПравильный ответ: {a}\\n\\nОтвет, который дала команда: {pred}. \\n\\nТебе нужно сравнить правильный ответ с ответом команды и порассуждать, соответствует ли ответ команды правильному ответу в контексте вопроса. Обращай внимание на форму вопроса (т.е. что именно спрашивают)! \\n\\nСначала рассуждения!\\nПотом, после рассуждений ты пишешь свой вердикт: #ВЕРНО, если ответ можно зачесть или #НЕВЕРНО, если нельзя.\\n')] last=YandexGPTWrapper(config_manager=<yandex_gpt.config_manager.YandexGPTConfigManagerForAPIKey object at 0x000002A588DAFE90>, yandex_gpt=<yandex_gpt.yandex_gpt.YandexGPT object at 0x000002A5893AAED0>)\n"
          ]
        },
        {
          "name": "stderr",
          "output_type": "stream",
          "text": [
            "  7%|▋         | 28/400 [00:03<00:44,  8.39it/s]"
          ]
        },
        {
          "name": "stdout",
          "output_type": "stream",
          "text": [
            "first={\n",
            "  q: RunnableLambda(...),\n",
            "  a: RunnableLambda(...),\n",
            "  pred: RunnableLambda(...)\n",
            "} middle=[PromptTemplate(input_variables=['a', 'pred', 'q'], template='\\nТы профессиональный игрок в Что? Где? Когда? Ты проверяешь ответы, которые дали команды.\\n\\nВопрос: {q}\\n\\nПравильный ответ: {a}\\n\\nОтвет, который дала команда: {pred}. \\n\\nТебе нужно сравнить правильный ответ с ответом команды и порассуждать, соответствует ли ответ команды правильному ответу в контексте вопроса. Обращай внимание на форму вопроса (т.е. что именно спрашивают)! \\n\\nСначала рассуждения!\\nПотом, после рассуждений ты пишешь свой вердикт: #ВЕРНО, если ответ можно зачесть или #НЕВЕРНО, если нельзя.\\n')] last=YandexGPTWrapper(config_manager=<yandex_gpt.config_manager.YandexGPTConfigManagerForAPIKey object at 0x000002A588DAFE90>, yandex_gpt=<yandex_gpt.yandex_gpt.YandexGPT object at 0x000002A5893AAED0>)\n"
          ]
        },
        {
          "name": "stderr",
          "output_type": "stream",
          "text": [
            "  7%|▋         | 29/400 [00:03<00:43,  8.50it/s]"
          ]
        },
        {
          "name": "stdout",
          "output_type": "stream",
          "text": [
            "first={\n",
            "  q: RunnableLambda(...),\n",
            "  a: RunnableLambda(...),\n",
            "  pred: RunnableLambda(...)\n",
            "} middle=[PromptTemplate(input_variables=['a', 'pred', 'q'], template='\\nТы профессиональный игрок в Что? Где? Когда? Ты проверяешь ответы, которые дали команды.\\n\\nВопрос: {q}\\n\\nПравильный ответ: {a}\\n\\nОтвет, который дала команда: {pred}. \\n\\nТебе нужно сравнить правильный ответ с ответом команды и порассуждать, соответствует ли ответ команды правильному ответу в контексте вопроса. Обращай внимание на форму вопроса (т.е. что именно спрашивают)! \\n\\nСначала рассуждения!\\nПотом, после рассуждений ты пишешь свой вердикт: #ВЕРНО, если ответ можно зачесть или #НЕВЕРНО, если нельзя.\\n')] last=YandexGPTWrapper(config_manager=<yandex_gpt.config_manager.YandexGPTConfigManagerForAPIKey object at 0x000002A588DAFE90>, yandex_gpt=<yandex_gpt.yandex_gpt.YandexGPT object at 0x000002A5893AAED0>)\n"
          ]
        },
        {
          "name": "stderr",
          "output_type": "stream",
          "text": [
            "  8%|▊         | 30/400 [00:03<00:43,  8.54it/s]"
          ]
        },
        {
          "name": "stdout",
          "output_type": "stream",
          "text": [
            "first={\n",
            "  q: RunnableLambda(...),\n",
            "  a: RunnableLambda(...),\n",
            "  pred: RunnableLambda(...)\n",
            "} middle=[PromptTemplate(input_variables=['a', 'pred', 'q'], template='\\nТы профессиональный игрок в Что? Где? Когда? Ты проверяешь ответы, которые дали команды.\\n\\nВопрос: {q}\\n\\nПравильный ответ: {a}\\n\\nОтвет, который дала команда: {pred}. \\n\\nТебе нужно сравнить правильный ответ с ответом команды и порассуждать, соответствует ли ответ команды правильному ответу в контексте вопроса. Обращай внимание на форму вопроса (т.е. что именно спрашивают)! \\n\\nСначала рассуждения!\\nПотом, после рассуждений ты пишешь свой вердикт: #ВЕРНО, если ответ можно зачесть или #НЕВЕРНО, если нельзя.\\n')] last=YandexGPTWrapper(config_manager=<yandex_gpt.config_manager.YandexGPTConfigManagerForAPIKey object at 0x000002A588DAFE90>, yandex_gpt=<yandex_gpt.yandex_gpt.YandexGPT object at 0x000002A5893AAED0>)\n"
          ]
        },
        {
          "name": "stderr",
          "output_type": "stream",
          "text": [
            "  8%|▊         | 31/400 [00:03<00:42,  8.72it/s]"
          ]
        },
        {
          "name": "stdout",
          "output_type": "stream",
          "text": [
            "first={\n",
            "  q: RunnableLambda(...),\n",
            "  a: RunnableLambda(...),\n",
            "  pred: RunnableLambda(...)\n",
            "} middle=[PromptTemplate(input_variables=['a', 'pred', 'q'], template='\\nТы профессиональный игрок в Что? Где? Когда? Ты проверяешь ответы, которые дали команды.\\n\\nВопрос: {q}\\n\\nПравильный ответ: {a}\\n\\nОтвет, который дала команда: {pred}. \\n\\nТебе нужно сравнить правильный ответ с ответом команды и порассуждать, соответствует ли ответ команды правильному ответу в контексте вопроса. Обращай внимание на форму вопроса (т.е. что именно спрашивают)! \\n\\nСначала рассуждения!\\nПотом, после рассуждений ты пишешь свой вердикт: #ВЕРНО, если ответ можно зачесть или #НЕВЕРНО, если нельзя.\\n')] last=YandexGPTWrapper(config_manager=<yandex_gpt.config_manager.YandexGPTConfigManagerForAPIKey object at 0x000002A588DAFE90>, yandex_gpt=<yandex_gpt.yandex_gpt.YandexGPT object at 0x000002A5893AAED0>)\n"
          ]
        },
        {
          "name": "stderr",
          "output_type": "stream",
          "text": [
            "  8%|▊         | 32/400 [00:03<00:42,  8.73it/s]"
          ]
        },
        {
          "name": "stdout",
          "output_type": "stream",
          "text": [
            "first={\n",
            "  q: RunnableLambda(...),\n",
            "  a: RunnableLambda(...),\n",
            "  pred: RunnableLambda(...)\n",
            "} middle=[PromptTemplate(input_variables=['a', 'pred', 'q'], template='\\nТы профессиональный игрок в Что? Где? Когда? Ты проверяешь ответы, которые дали команды.\\n\\nВопрос: {q}\\n\\nПравильный ответ: {a}\\n\\nОтвет, который дала команда: {pred}. \\n\\nТебе нужно сравнить правильный ответ с ответом команды и порассуждать, соответствует ли ответ команды правильному ответу в контексте вопроса. Обращай внимание на форму вопроса (т.е. что именно спрашивают)! \\n\\nСначала рассуждения!\\nПотом, после рассуждений ты пишешь свой вердикт: #ВЕРНО, если ответ можно зачесть или #НЕВЕРНО, если нельзя.\\n')] last=YandexGPTWrapper(config_manager=<yandex_gpt.config_manager.YandexGPTConfigManagerForAPIKey object at 0x000002A588DAFE90>, yandex_gpt=<yandex_gpt.yandex_gpt.YandexGPT object at 0x000002A5893AAED0>)\n"
          ]
        },
        {
          "name": "stderr",
          "output_type": "stream",
          "text": [
            "  8%|▊         | 33/400 [00:03<00:41,  8.79it/s]"
          ]
        },
        {
          "name": "stdout",
          "output_type": "stream",
          "text": [
            "first={\n",
            "  q: RunnableLambda(...),\n",
            "  a: RunnableLambda(...),\n",
            "  pred: RunnableLambda(...)\n",
            "} middle=[PromptTemplate(input_variables=['a', 'pred', 'q'], template='\\nТы профессиональный игрок в Что? Где? Когда? Ты проверяешь ответы, которые дали команды.\\n\\nВопрос: {q}\\n\\nПравильный ответ: {a}\\n\\nОтвет, который дала команда: {pred}. \\n\\nТебе нужно сравнить правильный ответ с ответом команды и порассуждать, соответствует ли ответ команды правильному ответу в контексте вопроса. Обращай внимание на форму вопроса (т.е. что именно спрашивают)! \\n\\nСначала рассуждения!\\nПотом, после рассуждений ты пишешь свой вердикт: #ВЕРНО, если ответ можно зачесть или #НЕВЕРНО, если нельзя.\\n')] last=YandexGPTWrapper(config_manager=<yandex_gpt.config_manager.YandexGPTConfigManagerForAPIKey object at 0x000002A588DAFE90>, yandex_gpt=<yandex_gpt.yandex_gpt.YandexGPT object at 0x000002A5893AAED0>)\n"
          ]
        },
        {
          "name": "stderr",
          "output_type": "stream",
          "text": [
            "  8%|▊         | 34/400 [00:03<00:41,  8.74it/s]"
          ]
        },
        {
          "name": "stdout",
          "output_type": "stream",
          "text": [
            "first={\n",
            "  q: RunnableLambda(...),\n",
            "  a: RunnableLambda(...),\n",
            "  pred: RunnableLambda(...)\n",
            "} middle=[PromptTemplate(input_variables=['a', 'pred', 'q'], template='\\nТы профессиональный игрок в Что? Где? Когда? Ты проверяешь ответы, которые дали команды.\\n\\nВопрос: {q}\\n\\nПравильный ответ: {a}\\n\\nОтвет, который дала команда: {pred}. \\n\\nТебе нужно сравнить правильный ответ с ответом команды и порассуждать, соответствует ли ответ команды правильному ответу в контексте вопроса. Обращай внимание на форму вопроса (т.е. что именно спрашивают)! \\n\\nСначала рассуждения!\\nПотом, после рассуждений ты пишешь свой вердикт: #ВЕРНО, если ответ можно зачесть или #НЕВЕРНО, если нельзя.\\n')] last=YandexGPTWrapper(config_manager=<yandex_gpt.config_manager.YandexGPTConfigManagerForAPIKey object at 0x000002A588DAFE90>, yandex_gpt=<yandex_gpt.yandex_gpt.YandexGPT object at 0x000002A5893AAED0>)\n"
          ]
        },
        {
          "name": "stderr",
          "output_type": "stream",
          "text": [
            "  9%|▉         | 35/400 [00:03<00:42,  8.66it/s]"
          ]
        },
        {
          "name": "stdout",
          "output_type": "stream",
          "text": [
            "first={\n",
            "  q: RunnableLambda(...),\n",
            "  a: RunnableLambda(...),\n",
            "  pred: RunnableLambda(...)\n",
            "} middle=[PromptTemplate(input_variables=['a', 'pred', 'q'], template='\\nТы профессиональный игрок в Что? Где? Когда? Ты проверяешь ответы, которые дали команды.\\n\\nВопрос: {q}\\n\\nПравильный ответ: {a}\\n\\nОтвет, который дала команда: {pred}. \\n\\nТебе нужно сравнить правильный ответ с ответом команды и порассуждать, соответствует ли ответ команды правильному ответу в контексте вопроса. Обращай внимание на форму вопроса (т.е. что именно спрашивают)! \\n\\nСначала рассуждения!\\nПотом, после рассуждений ты пишешь свой вердикт: #ВЕРНО, если ответ можно зачесть или #НЕВЕРНО, если нельзя.\\n')] last=YandexGPTWrapper(config_manager=<yandex_gpt.config_manager.YandexGPTConfigManagerForAPIKey object at 0x000002A588DAFE90>, yandex_gpt=<yandex_gpt.yandex_gpt.YandexGPT object at 0x000002A5893AAED0>)\n"
          ]
        },
        {
          "name": "stderr",
          "output_type": "stream",
          "text": [
            "  9%|▉         | 36/400 [00:04<00:43,  8.39it/s]"
          ]
        },
        {
          "name": "stdout",
          "output_type": "stream",
          "text": [
            "first={\n",
            "  q: RunnableLambda(...),\n",
            "  a: RunnableLambda(...),\n",
            "  pred: RunnableLambda(...)\n",
            "} middle=[PromptTemplate(input_variables=['a', 'pred', 'q'], template='\\nТы профессиональный игрок в Что? Где? Когда? Ты проверяешь ответы, которые дали команды.\\n\\nВопрос: {q}\\n\\nПравильный ответ: {a}\\n\\nОтвет, который дала команда: {pred}. \\n\\nТебе нужно сравнить правильный ответ с ответом команды и порассуждать, соответствует ли ответ команды правильному ответу в контексте вопроса. Обращай внимание на форму вопроса (т.е. что именно спрашивают)! \\n\\nСначала рассуждения!\\nПотом, после рассуждений ты пишешь свой вердикт: #ВЕРНО, если ответ можно зачесть или #НЕВЕРНО, если нельзя.\\n')] last=YandexGPTWrapper(config_manager=<yandex_gpt.config_manager.YandexGPTConfigManagerForAPIKey object at 0x000002A588DAFE90>, yandex_gpt=<yandex_gpt.yandex_gpt.YandexGPT object at 0x000002A5893AAED0>)\n"
          ]
        },
        {
          "name": "stderr",
          "output_type": "stream",
          "text": [
            "  9%|▉         | 37/400 [00:04<00:51,  7.01it/s]"
          ]
        },
        {
          "name": "stdout",
          "output_type": "stream",
          "text": [
            "first={\n",
            "  q: RunnableLambda(...),\n",
            "  a: RunnableLambda(...),\n",
            "  pred: RunnableLambda(...)\n",
            "} middle=[PromptTemplate(input_variables=['a', 'pred', 'q'], template='\\nТы профессиональный игрок в Что? Где? Когда? Ты проверяешь ответы, которые дали команды.\\n\\nВопрос: {q}\\n\\nПравильный ответ: {a}\\n\\nОтвет, который дала команда: {pred}. \\n\\nТебе нужно сравнить правильный ответ с ответом команды и порассуждать, соответствует ли ответ команды правильному ответу в контексте вопроса. Обращай внимание на форму вопроса (т.е. что именно спрашивают)! \\n\\nСначала рассуждения!\\nПотом, после рассуждений ты пишешь свой вердикт: #ВЕРНО, если ответ можно зачесть или #НЕВЕРНО, если нельзя.\\n')] last=YandexGPTWrapper(config_manager=<yandex_gpt.config_manager.YandexGPTConfigManagerForAPIKey object at 0x000002A588DAFE90>, yandex_gpt=<yandex_gpt.yandex_gpt.YandexGPT object at 0x000002A5893AAED0>)\n"
          ]
        },
        {
          "name": "stderr",
          "output_type": "stream",
          "text": [
            " 10%|▉         | 38/400 [00:04<00:53,  6.73it/s]"
          ]
        },
        {
          "name": "stdout",
          "output_type": "stream",
          "text": [
            "first={\n",
            "  q: RunnableLambda(...),\n",
            "  a: RunnableLambda(...),\n",
            "  pred: RunnableLambda(...)\n",
            "} middle=[PromptTemplate(input_variables=['a', 'pred', 'q'], template='\\nТы профессиональный игрок в Что? Где? Когда? Ты проверяешь ответы, которые дали команды.\\n\\nВопрос: {q}\\n\\nПравильный ответ: {a}\\n\\nОтвет, который дала команда: {pred}. \\n\\nТебе нужно сравнить правильный ответ с ответом команды и порассуждать, соответствует ли ответ команды правильному ответу в контексте вопроса. Обращай внимание на форму вопроса (т.е. что именно спрашивают)! \\n\\nСначала рассуждения!\\nПотом, после рассуждений ты пишешь свой вердикт: #ВЕРНО, если ответ можно зачесть или #НЕВЕРНО, если нельзя.\\n')] last=YandexGPTWrapper(config_manager=<yandex_gpt.config_manager.YandexGPTConfigManagerForAPIKey object at 0x000002A588DAFE90>, yandex_gpt=<yandex_gpt.yandex_gpt.YandexGPT object at 0x000002A5893AAED0>)\n"
          ]
        },
        {
          "name": "stderr",
          "output_type": "stream",
          "text": [
            " 10%|▉         | 39/400 [00:04<00:55,  6.53it/s]"
          ]
        },
        {
          "name": "stdout",
          "output_type": "stream",
          "text": [
            "first={\n",
            "  q: RunnableLambda(...),\n",
            "  a: RunnableLambda(...),\n",
            "  pred: RunnableLambda(...)\n",
            "} middle=[PromptTemplate(input_variables=['a', 'pred', 'q'], template='\\nТы профессиональный игрок в Что? Где? Когда? Ты проверяешь ответы, которые дали команды.\\n\\nВопрос: {q}\\n\\nПравильный ответ: {a}\\n\\nОтвет, который дала команда: {pred}. \\n\\nТебе нужно сравнить правильный ответ с ответом команды и порассуждать, соответствует ли ответ команды правильному ответу в контексте вопроса. Обращай внимание на форму вопроса (т.е. что именно спрашивают)! \\n\\nСначала рассуждения!\\nПотом, после рассуждений ты пишешь свой вердикт: #ВЕРНО, если ответ можно зачесть или #НЕВЕРНО, если нельзя.\\n')] last=YandexGPTWrapper(config_manager=<yandex_gpt.config_manager.YandexGPTConfigManagerForAPIKey object at 0x000002A588DAFE90>, yandex_gpt=<yandex_gpt.yandex_gpt.YandexGPT object at 0x000002A5893AAED0>)\n"
          ]
        },
        {
          "name": "stderr",
          "output_type": "stream",
          "text": [
            " 10%|█         | 40/400 [00:04<00:51,  7.00it/s]"
          ]
        },
        {
          "name": "stdout",
          "output_type": "stream",
          "text": [
            "first={\n",
            "  q: RunnableLambda(...),\n",
            "  a: RunnableLambda(...),\n",
            "  pred: RunnableLambda(...)\n",
            "} middle=[PromptTemplate(input_variables=['a', 'pred', 'q'], template='\\nТы профессиональный игрок в Что? Где? Когда? Ты проверяешь ответы, которые дали команды.\\n\\nВопрос: {q}\\n\\nПравильный ответ: {a}\\n\\nОтвет, который дала команда: {pred}. \\n\\nТебе нужно сравнить правильный ответ с ответом команды и порассуждать, соответствует ли ответ команды правильному ответу в контексте вопроса. Обращай внимание на форму вопроса (т.е. что именно спрашивают)! \\n\\nСначала рассуждения!\\nПотом, после рассуждений ты пишешь свой вердикт: #ВЕРНО, если ответ можно зачесть или #НЕВЕРНО, если нельзя.\\n')] last=YandexGPTWrapper(config_manager=<yandex_gpt.config_manager.YandexGPTConfigManagerForAPIKey object at 0x000002A588DAFE90>, yandex_gpt=<yandex_gpt.yandex_gpt.YandexGPT object at 0x000002A5893AAED0>)\n"
          ]
        },
        {
          "name": "stderr",
          "output_type": "stream",
          "text": [
            " 10%|█         | 41/400 [00:04<00:48,  7.43it/s]"
          ]
        },
        {
          "name": "stdout",
          "output_type": "stream",
          "text": [
            "first={\n",
            "  q: RunnableLambda(...),\n",
            "  a: RunnableLambda(...),\n",
            "  pred: RunnableLambda(...)\n",
            "} middle=[PromptTemplate(input_variables=['a', 'pred', 'q'], template='\\nТы профессиональный игрок в Что? Где? Когда? Ты проверяешь ответы, которые дали команды.\\n\\nВопрос: {q}\\n\\nПравильный ответ: {a}\\n\\nОтвет, который дала команда: {pred}. \\n\\nТебе нужно сравнить правильный ответ с ответом команды и порассуждать, соответствует ли ответ команды правильному ответу в контексте вопроса. Обращай внимание на форму вопроса (т.е. что именно спрашивают)! \\n\\nСначала рассуждения!\\nПотом, после рассуждений ты пишешь свой вердикт: #ВЕРНО, если ответ можно зачесть или #НЕВЕРНО, если нельзя.\\n')] last=YandexGPTWrapper(config_manager=<yandex_gpt.config_manager.YandexGPTConfigManagerForAPIKey object at 0x000002A588DAFE90>, yandex_gpt=<yandex_gpt.yandex_gpt.YandexGPT object at 0x000002A5893AAED0>)\n"
          ]
        },
        {
          "name": "stderr",
          "output_type": "stream",
          "text": [
            " 10%|█         | 42/400 [00:04<00:46,  7.77it/s]"
          ]
        },
        {
          "name": "stdout",
          "output_type": "stream",
          "text": [
            "first={\n",
            "  q: RunnableLambda(...),\n",
            "  a: RunnableLambda(...),\n",
            "  pred: RunnableLambda(...)\n",
            "} middle=[PromptTemplate(input_variables=['a', 'pred', 'q'], template='\\nТы профессиональный игрок в Что? Где? Когда? Ты проверяешь ответы, которые дали команды.\\n\\nВопрос: {q}\\n\\nПравильный ответ: {a}\\n\\nОтвет, который дала команда: {pred}. \\n\\nТебе нужно сравнить правильный ответ с ответом команды и порассуждать, соответствует ли ответ команды правильному ответу в контексте вопроса. Обращай внимание на форму вопроса (т.е. что именно спрашивают)! \\n\\nСначала рассуждения!\\nПотом, после рассуждений ты пишешь свой вердикт: #ВЕРНО, если ответ можно зачесть или #НЕВЕРНО, если нельзя.\\n')] last=YandexGPTWrapper(config_manager=<yandex_gpt.config_manager.YandexGPTConfigManagerForAPIKey object at 0x000002A588DAFE90>, yandex_gpt=<yandex_gpt.yandex_gpt.YandexGPT object at 0x000002A5893AAED0>)\n"
          ]
        },
        {
          "name": "stderr",
          "output_type": "stream",
          "text": [
            " 11%|█         | 43/400 [00:05<00:45,  7.89it/s]"
          ]
        },
        {
          "name": "stdout",
          "output_type": "stream",
          "text": [
            "first={\n",
            "  q: RunnableLambda(...),\n",
            "  a: RunnableLambda(...),\n",
            "  pred: RunnableLambda(...)\n",
            "} middle=[PromptTemplate(input_variables=['a', 'pred', 'q'], template='\\nТы профессиональный игрок в Что? Где? Когда? Ты проверяешь ответы, которые дали команды.\\n\\nВопрос: {q}\\n\\nПравильный ответ: {a}\\n\\nОтвет, который дала команда: {pred}. \\n\\nТебе нужно сравнить правильный ответ с ответом команды и порассуждать, соответствует ли ответ команды правильному ответу в контексте вопроса. Обращай внимание на форму вопроса (т.е. что именно спрашивают)! \\n\\nСначала рассуждения!\\nПотом, после рассуждений ты пишешь свой вердикт: #ВЕРНО, если ответ можно зачесть или #НЕВЕРНО, если нельзя.\\n')] last=YandexGPTWrapper(config_manager=<yandex_gpt.config_manager.YandexGPTConfigManagerForAPIKey object at 0x000002A588DAFE90>, yandex_gpt=<yandex_gpt.yandex_gpt.YandexGPT object at 0x000002A5893AAED0>)\n"
          ]
        },
        {
          "name": "stderr",
          "output_type": "stream",
          "text": [
            " 11%|█         | 44/400 [00:05<00:47,  7.50it/s]"
          ]
        },
        {
          "name": "stdout",
          "output_type": "stream",
          "text": [
            "first={\n",
            "  q: RunnableLambda(...),\n",
            "  a: RunnableLambda(...),\n",
            "  pred: RunnableLambda(...)\n",
            "} middle=[PromptTemplate(input_variables=['a', 'pred', 'q'], template='\\nТы профессиональный игрок в Что? Где? Когда? Ты проверяешь ответы, которые дали команды.\\n\\nВопрос: {q}\\n\\nПравильный ответ: {a}\\n\\nОтвет, который дала команда: {pred}. \\n\\nТебе нужно сравнить правильный ответ с ответом команды и порассуждать, соответствует ли ответ команды правильному ответу в контексте вопроса. Обращай внимание на форму вопроса (т.е. что именно спрашивают)! \\n\\nСначала рассуждения!\\nПотом, после рассуждений ты пишешь свой вердикт: #ВЕРНО, если ответ можно зачесть или #НЕВЕРНО, если нельзя.\\n')] last=YandexGPTWrapper(config_manager=<yandex_gpt.config_manager.YandexGPTConfigManagerForAPIKey object at 0x000002A588DAFE90>, yandex_gpt=<yandex_gpt.yandex_gpt.YandexGPT object at 0x000002A5893AAED0>)\n"
          ]
        },
        {
          "name": "stderr",
          "output_type": "stream",
          "text": [
            " 11%|█▏        | 45/400 [00:05<00:46,  7.61it/s]"
          ]
        },
        {
          "name": "stdout",
          "output_type": "stream",
          "text": [
            "first={\n",
            "  q: RunnableLambda(...),\n",
            "  a: RunnableLambda(...),\n",
            "  pred: RunnableLambda(...)\n",
            "} middle=[PromptTemplate(input_variables=['a', 'pred', 'q'], template='\\nТы профессиональный игрок в Что? Где? Когда? Ты проверяешь ответы, которые дали команды.\\n\\nВопрос: {q}\\n\\nПравильный ответ: {a}\\n\\nОтвет, который дала команда: {pred}. \\n\\nТебе нужно сравнить правильный ответ с ответом команды и порассуждать, соответствует ли ответ команды правильному ответу в контексте вопроса. Обращай внимание на форму вопроса (т.е. что именно спрашивают)! \\n\\nСначала рассуждения!\\nПотом, после рассуждений ты пишешь свой вердикт: #ВЕРНО, если ответ можно зачесть или #НЕВЕРНО, если нельзя.\\n')] last=YandexGPTWrapper(config_manager=<yandex_gpt.config_manager.YandexGPTConfigManagerForAPIKey object at 0x000002A588DAFE90>, yandex_gpt=<yandex_gpt.yandex_gpt.YandexGPT object at 0x000002A5893AAED0>)\n"
          ]
        },
        {
          "name": "stderr",
          "output_type": "stream",
          "text": [
            " 12%|█▏        | 46/400 [00:05<00:46,  7.56it/s]"
          ]
        },
        {
          "name": "stdout",
          "output_type": "stream",
          "text": [
            "first={\n",
            "  q: RunnableLambda(...),\n",
            "  a: RunnableLambda(...),\n",
            "  pred: RunnableLambda(...)\n",
            "} middle=[PromptTemplate(input_variables=['a', 'pred', 'q'], template='\\nТы профессиональный игрок в Что? Где? Когда? Ты проверяешь ответы, которые дали команды.\\n\\nВопрос: {q}\\n\\nПравильный ответ: {a}\\n\\nОтвет, который дала команда: {pred}. \\n\\nТебе нужно сравнить правильный ответ с ответом команды и порассуждать, соответствует ли ответ команды правильному ответу в контексте вопроса. Обращай внимание на форму вопроса (т.е. что именно спрашивают)! \\n\\nСначала рассуждения!\\nПотом, после рассуждений ты пишешь свой вердикт: #ВЕРНО, если ответ можно зачесть или #НЕВЕРНО, если нельзя.\\n')] last=YandexGPTWrapper(config_manager=<yandex_gpt.config_manager.YandexGPTConfigManagerForAPIKey object at 0x000002A588DAFE90>, yandex_gpt=<yandex_gpt.yandex_gpt.YandexGPT object at 0x000002A5893AAED0>)\n"
          ]
        },
        {
          "name": "stderr",
          "output_type": "stream",
          "text": [
            " 12%|█▏        | 47/400 [00:05<00:45,  7.76it/s]"
          ]
        },
        {
          "name": "stdout",
          "output_type": "stream",
          "text": [
            "first={\n",
            "  q: RunnableLambda(...),\n",
            "  a: RunnableLambda(...),\n",
            "  pred: RunnableLambda(...)\n",
            "} middle=[PromptTemplate(input_variables=['a', 'pred', 'q'], template='\\nТы профессиональный игрок в Что? Где? Когда? Ты проверяешь ответы, которые дали команды.\\n\\nВопрос: {q}\\n\\nПравильный ответ: {a}\\n\\nОтвет, который дала команда: {pred}. \\n\\nТебе нужно сравнить правильный ответ с ответом команды и порассуждать, соответствует ли ответ команды правильному ответу в контексте вопроса. Обращай внимание на форму вопроса (т.е. что именно спрашивают)! \\n\\nСначала рассуждения!\\nПотом, после рассуждений ты пишешь свой вердикт: #ВЕРНО, если ответ можно зачесть или #НЕВЕРНО, если нельзя.\\n')] last=YandexGPTWrapper(config_manager=<yandex_gpt.config_manager.YandexGPTConfigManagerForAPIKey object at 0x000002A588DAFE90>, yandex_gpt=<yandex_gpt.yandex_gpt.YandexGPT object at 0x000002A5893AAED0>)\n"
          ]
        },
        {
          "name": "stderr",
          "output_type": "stream",
          "text": [
            " 12%|█▏        | 48/400 [00:05<00:44,  7.98it/s]"
          ]
        },
        {
          "name": "stdout",
          "output_type": "stream",
          "text": [
            "first={\n",
            "  q: RunnableLambda(...),\n",
            "  a: RunnableLambda(...),\n",
            "  pred: RunnableLambda(...)\n",
            "} middle=[PromptTemplate(input_variables=['a', 'pred', 'q'], template='\\nТы профессиональный игрок в Что? Где? Когда? Ты проверяешь ответы, которые дали команды.\\n\\nВопрос: {q}\\n\\nПравильный ответ: {a}\\n\\nОтвет, который дала команда: {pred}. \\n\\nТебе нужно сравнить правильный ответ с ответом команды и порассуждать, соответствует ли ответ команды правильному ответу в контексте вопроса. Обращай внимание на форму вопроса (т.е. что именно спрашивают)! \\n\\nСначала рассуждения!\\nПотом, после рассуждений ты пишешь свой вердикт: #ВЕРНО, если ответ можно зачесть или #НЕВЕРНО, если нельзя.\\n')] last=YandexGPTWrapper(config_manager=<yandex_gpt.config_manager.YandexGPTConfigManagerForAPIKey object at 0x000002A588DAFE90>, yandex_gpt=<yandex_gpt.yandex_gpt.YandexGPT object at 0x000002A5893AAED0>)\n"
          ]
        },
        {
          "name": "stderr",
          "output_type": "stream",
          "text": [
            " 12%|█▏        | 49/400 [00:05<00:48,  7.29it/s]"
          ]
        },
        {
          "name": "stdout",
          "output_type": "stream",
          "text": [
            "first={\n",
            "  q: RunnableLambda(...),\n",
            "  a: RunnableLambda(...),\n",
            "  pred: RunnableLambda(...)\n",
            "} middle=[PromptTemplate(input_variables=['a', 'pred', 'q'], template='\\nТы профессиональный игрок в Что? Где? Когда? Ты проверяешь ответы, которые дали команды.\\n\\nВопрос: {q}\\n\\nПравильный ответ: {a}\\n\\nОтвет, который дала команда: {pred}. \\n\\nТебе нужно сравнить правильный ответ с ответом команды и порассуждать, соответствует ли ответ команды правильному ответу в контексте вопроса. Обращай внимание на форму вопроса (т.е. что именно спрашивают)! \\n\\nСначала рассуждения!\\nПотом, после рассуждений ты пишешь свой вердикт: #ВЕРНО, если ответ можно зачесть или #НЕВЕРНО, если нельзя.\\n')] last=YandexGPTWrapper(config_manager=<yandex_gpt.config_manager.YandexGPTConfigManagerForAPIKey object at 0x000002A588DAFE90>, yandex_gpt=<yandex_gpt.yandex_gpt.YandexGPT object at 0x000002A5893AAED0>)\n"
          ]
        },
        {
          "name": "stderr",
          "output_type": "stream",
          "text": [
            " 12%|█▎        | 50/400 [00:06<00:45,  7.62it/s]"
          ]
        },
        {
          "name": "stdout",
          "output_type": "stream",
          "text": [
            "first={\n",
            "  q: RunnableLambda(...),\n",
            "  a: RunnableLambda(...),\n",
            "  pred: RunnableLambda(...)\n",
            "} middle=[PromptTemplate(input_variables=['a', 'pred', 'q'], template='\\nТы профессиональный игрок в Что? Где? Когда? Ты проверяешь ответы, которые дали команды.\\n\\nВопрос: {q}\\n\\nПравильный ответ: {a}\\n\\nОтвет, который дала команда: {pred}. \\n\\nТебе нужно сравнить правильный ответ с ответом команды и порассуждать, соответствует ли ответ команды правильному ответу в контексте вопроса. Обращай внимание на форму вопроса (т.е. что именно спрашивают)! \\n\\nСначала рассуждения!\\nПотом, после рассуждений ты пишешь свой вердикт: #ВЕРНО, если ответ можно зачесть или #НЕВЕРНО, если нельзя.\\n')] last=YandexGPTWrapper(config_manager=<yandex_gpt.config_manager.YandexGPTConfigManagerForAPIKey object at 0x000002A588DAFE90>, yandex_gpt=<yandex_gpt.yandex_gpt.YandexGPT object at 0x000002A5893AAED0>)\n"
          ]
        },
        {
          "name": "stderr",
          "output_type": "stream",
          "text": [
            " 13%|█▎        | 51/400 [00:06<00:44,  7.85it/s]"
          ]
        },
        {
          "name": "stdout",
          "output_type": "stream",
          "text": [
            "first={\n",
            "  q: RunnableLambda(...),\n",
            "  a: RunnableLambda(...),\n",
            "  pred: RunnableLambda(...)\n",
            "} middle=[PromptTemplate(input_variables=['a', 'pred', 'q'], template='\\nТы профессиональный игрок в Что? Где? Когда? Ты проверяешь ответы, которые дали команды.\\n\\nВопрос: {q}\\n\\nПравильный ответ: {a}\\n\\nОтвет, который дала команда: {pred}. \\n\\nТебе нужно сравнить правильный ответ с ответом команды и порассуждать, соответствует ли ответ команды правильному ответу в контексте вопроса. Обращай внимание на форму вопроса (т.е. что именно спрашивают)! \\n\\nСначала рассуждения!\\nПотом, после рассуждений ты пишешь свой вердикт: #ВЕРНО, если ответ можно зачесть или #НЕВЕРНО, если нельзя.\\n')] last=YandexGPTWrapper(config_manager=<yandex_gpt.config_manager.YandexGPTConfigManagerForAPIKey object at 0x000002A588DAFE90>, yandex_gpt=<yandex_gpt.yandex_gpt.YandexGPT object at 0x000002A5893AAED0>)\n"
          ]
        },
        {
          "name": "stderr",
          "output_type": "stream",
          "text": [
            " 13%|█▎        | 52/400 [00:06<00:43,  8.07it/s]"
          ]
        },
        {
          "name": "stdout",
          "output_type": "stream",
          "text": [
            "first={\n",
            "  q: RunnableLambda(...),\n",
            "  a: RunnableLambda(...),\n",
            "  pred: RunnableLambda(...)\n",
            "} middle=[PromptTemplate(input_variables=['a', 'pred', 'q'], template='\\nТы профессиональный игрок в Что? Где? Когда? Ты проверяешь ответы, которые дали команды.\\n\\nВопрос: {q}\\n\\nПравильный ответ: {a}\\n\\nОтвет, который дала команда: {pred}. \\n\\nТебе нужно сравнить правильный ответ с ответом команды и порассуждать, соответствует ли ответ команды правильному ответу в контексте вопроса. Обращай внимание на форму вопроса (т.е. что именно спрашивают)! \\n\\nСначала рассуждения!\\nПотом, после рассуждений ты пишешь свой вердикт: #ВЕРНО, если ответ можно зачесть или #НЕВЕРНО, если нельзя.\\n')] last=YandexGPTWrapper(config_manager=<yandex_gpt.config_manager.YandexGPTConfigManagerForAPIKey object at 0x000002A588DAFE90>, yandex_gpt=<yandex_gpt.yandex_gpt.YandexGPT object at 0x000002A5893AAED0>)\n"
          ]
        },
        {
          "name": "stderr",
          "output_type": "stream",
          "text": [
            " 13%|█▎        | 53/400 [00:06<00:42,  8.13it/s]"
          ]
        },
        {
          "name": "stdout",
          "output_type": "stream",
          "text": [
            "first={\n",
            "  q: RunnableLambda(...),\n",
            "  a: RunnableLambda(...),\n",
            "  pred: RunnableLambda(...)\n",
            "} middle=[PromptTemplate(input_variables=['a', 'pred', 'q'], template='\\nТы профессиональный игрок в Что? Где? Когда? Ты проверяешь ответы, которые дали команды.\\n\\nВопрос: {q}\\n\\nПравильный ответ: {a}\\n\\nОтвет, который дала команда: {pred}. \\n\\nТебе нужно сравнить правильный ответ с ответом команды и порассуждать, соответствует ли ответ команды правильному ответу в контексте вопроса. Обращай внимание на форму вопроса (т.е. что именно спрашивают)! \\n\\nСначала рассуждения!\\nПотом, после рассуждений ты пишешь свой вердикт: #ВЕРНО, если ответ можно зачесть или #НЕВЕРНО, если нельзя.\\n')] last=YandexGPTWrapper(config_manager=<yandex_gpt.config_manager.YandexGPTConfigManagerForAPIKey object at 0x000002A588DAFE90>, yandex_gpt=<yandex_gpt.yandex_gpt.YandexGPT object at 0x000002A5893AAED0>)\n"
          ]
        },
        {
          "name": "stderr",
          "output_type": "stream",
          "text": [
            " 14%|█▎        | 54/400 [00:06<00:42,  8.21it/s]"
          ]
        },
        {
          "name": "stdout",
          "output_type": "stream",
          "text": [
            "first={\n",
            "  q: RunnableLambda(...),\n",
            "  a: RunnableLambda(...),\n",
            "  pred: RunnableLambda(...)\n",
            "} middle=[PromptTemplate(input_variables=['a', 'pred', 'q'], template='\\nТы профессиональный игрок в Что? Где? Когда? Ты проверяешь ответы, которые дали команды.\\n\\nВопрос: {q}\\n\\nПравильный ответ: {a}\\n\\nОтвет, который дала команда: {pred}. \\n\\nТебе нужно сравнить правильный ответ с ответом команды и порассуждать, соответствует ли ответ команды правильному ответу в контексте вопроса. Обращай внимание на форму вопроса (т.е. что именно спрашивают)! \\n\\nСначала рассуждения!\\nПотом, после рассуждений ты пишешь свой вердикт: #ВЕРНО, если ответ можно зачесть или #НЕВЕРНО, если нельзя.\\n')] last=YandexGPTWrapper(config_manager=<yandex_gpt.config_manager.YandexGPTConfigManagerForAPIKey object at 0x000002A588DAFE90>, yandex_gpt=<yandex_gpt.yandex_gpt.YandexGPT object at 0x000002A5893AAED0>)\n"
          ]
        },
        {
          "name": "stderr",
          "output_type": "stream",
          "text": [
            " 14%|█▍        | 55/400 [00:06<00:41,  8.31it/s]"
          ]
        },
        {
          "ename": "",
          "evalue": "",
          "output_type": "error",
          "traceback": [
            "\u001b[1;31mThe Kernel crashed while executing code in the current cell or a previous cell. \n",
            "\u001b[1;31mPlease review the code in the cell(s) to identify a possible cause of the failure. \n",
            "\u001b[1;31mClick <a href='https://aka.ms/vscodeJupyterKernelCrash'>here</a> for more info. \n",
            "\u001b[1;31mView Jupyter <a href='command:jupyter.viewOutput'>log</a> for further details."
          ]
        }
      ],
      "source": [
        "test2 = test\n",
        "test2['answer_checking_2'] = test2.progress_apply(func, axis=1)\n",
        "test2"
      ]
    },
    {
      "cell_type": "code",
      "execution_count": 95,
      "id": "7df13a97",
      "metadata": {},
      "outputs": [
        {
          "data": {
            "text/html": [
              "<div>\n",
              "<style scoped>\n",
              "    .dataframe tbody tr th:only-of-type {\n",
              "        vertical-align: middle;\n",
              "    }\n",
              "\n",
              "    .dataframe tbody tr th {\n",
              "        vertical-align: top;\n",
              "    }\n",
              "\n",
              "    .dataframe thead th {\n",
              "        text-align: right;\n",
              "    }\n",
              "</style>\n",
              "<table border=\"1\" class=\"dataframe\">\n",
              "  <thead>\n",
              "    <tr style=\"text-align: right;\">\n",
              "      <th></th>\n",
              "      <th>Unnamed: 0</th>\n",
              "      <th>q</th>\n",
              "      <th>a</th>\n",
              "      <th>predict</th>\n",
              "      <th>f1_score</th>\n",
              "      <th>exact_match</th>\n",
              "      <th>answer_checking</th>\n",
              "    </tr>\n",
              "  </thead>\n",
              "  <tbody>\n",
              "    <tr>\n",
              "      <th>485</th>\n",
              "      <td>492</td>\n",
              "      <td>Автор детективов Иэн Рэнкин увлекается неким з...</td>\n",
              "      <td>собирать пазл, собирать мозаику, складывать па...</td>\n",
              "      <td>Раскладывать пасьянс.</td>\n",
              "      <td>0.000000</td>\n",
              "      <td>0</td>\n",
              "      <td>#НЕВЕРНО\\n\\nИэн Рэнкин увлекается собиранием п...</td>\n",
              "    </tr>\n",
              "    <tr>\n",
              "      <th>817</th>\n",
              "      <td>828</td>\n",
              "      <td>Некоторые виды мух называют путниками из-за их...</td>\n",
              "      <td>спутниками, спутники, спутник</td>\n",
              "      <td>расстоянии</td>\n",
              "      <td>0.000000</td>\n",
              "      <td>0</td>\n",
              "      <td>#НЕВЕРНО.\\n\\nКоманда ответила на вопрос неполн...</td>\n",
              "    </tr>\n",
              "    <tr>\n",
              "      <th>30</th>\n",
              "      <td>33</td>\n",
              "      <td>Хави Повес активно продвигает концепцию плоско...</td>\n",
              "      <td>астронавт, космонавт</td>\n",
              "      <td>Космонавт</td>\n",
              "      <td>0.666667</td>\n",
              "      <td>0</td>\n",
              "      <td>#ВЕРНО\\nОтвет команды «Космонавт» можно зачест...</td>\n",
              "    </tr>\n",
              "    <tr>\n",
              "      <th>551</th>\n",
              "      <td>560</td>\n",
              "      <td>Борющаяся с музыкальными корпорациями группа C...</td>\n",
              "      <td>троянский конь</td>\n",
              "      <td>Дон Кихот.</td>\n",
              "      <td>0.000000</td>\n",
              "      <td>0</td>\n",
              "      <td>#НЕВЕРНО\\n\\nОтвет команды нельзя зачесть, поск...</td>\n",
              "    </tr>\n",
              "    <tr>\n",
              "      <th>96</th>\n",
              "      <td>100</td>\n",
              "      <td>Голландский шахматист Мануэль Босбом выиграл с...</td>\n",
              "      <td>дырка, дыра</td>\n",
              "      <td>Надпись.</td>\n",
              "      <td>0.000000</td>\n",
              "      <td>0</td>\n",
              "      <td>#НЕВЕРНО\\n\\nОтвет команды не подходит, посколь...</td>\n",
              "    </tr>\n",
              "    <tr>\n",
              "      <th>...</th>\n",
              "      <td>...</td>\n",
              "      <td>...</td>\n",
              "      <td>...</td>\n",
              "      <td>...</td>\n",
              "      <td>...</td>\n",
              "      <td>...</td>\n",
              "      <td>...</td>\n",
              "    </tr>\n",
              "    <tr>\n",
              "      <th>289</th>\n",
              "      <td>294</td>\n",
              "      <td>Василий Рóзанов писал, что Наталья Нóрдман пог...</td>\n",
              "      <td>пылесос</td>\n",
              "      <td>Каспийское море.</td>\n",
              "      <td>0.000000</td>\n",
              "      <td>0</td>\n",
              "      <td>#НЕВЕРНО\\nРассуждения: Василий Розанов сравнив...</td>\n",
              "    </tr>\n",
              "    <tr>\n",
              "      <th>238</th>\n",
              "      <td>243</td>\n",
              "      <td>Математик семнадцатого века Джон ВАллис активн...</td>\n",
              "      <td>курица, куриная лапа, лапа курицы, лапка куриц...</td>\n",
              "      <td>Какофония.</td>\n",
              "      <td>0.000000</td>\n",
              "      <td>0</td>\n",
              "      <td>#НЕВЕРНО\\nРассуждения: ответ команды «Какофони...</td>\n",
              "    </tr>\n",
              "    <tr>\n",
              "      <th>0</th>\n",
              "      <td>0</td>\n",
              "      <td>В одном из эпизодов мультфильма Криса Батлера ...</td>\n",
              "      <td>сэр, сир, sir</td>\n",
              "      <td>Сэр.</td>\n",
              "      <td>0.500000</td>\n",
              "      <td>0</td>\n",
              "      <td>#ВЕРНО\\n\\nОтвет команды «сэр» можно зачесть, т...</td>\n",
              "    </tr>\n",
              "    <tr>\n",
              "      <th>832</th>\n",
              "      <td>843</td>\n",
              "      <td>В стихотворении под названием «ОН» Дэвид Лоуре...</td>\n",
              "      <td>комары, комар, комарик</td>\n",
              "      <td>Элли</td>\n",
              "      <td>0.000000</td>\n",
              "      <td>0</td>\n",
              "      <td>#НЕВЕРНО\\n\\nОтвет команды не подходит, посколь...</td>\n",
              "    </tr>\n",
              "    <tr>\n",
              "      <th>409</th>\n",
              "      <td>416</td>\n",
              "      <td>«Сначала паруса, а потом корпус корабля». Это ...</td>\n",
              "      <td>шарообразность Земли, Что Земля шар, а также Ч...</td>\n",
              "      <td>Бесконечность мира.</td>\n",
              "      <td>0.000000</td>\n",
              "      <td>0</td>\n",
              "      <td>#НЕВЕРНО\\n\\nКоманда дала неверный ответ. Прави...</td>\n",
              "    </tr>\n",
              "  </tbody>\n",
              "</table>\n",
              "<p>400 rows × 7 columns</p>\n",
              "</div>"
            ],
            "text/plain": [
              "     Unnamed: 0                                                  q  \\\n",
              "485         492  Автор детективов Иэн Рэнкин увлекается неким з...   \n",
              "817         828  Некоторые виды мух называют путниками из-за их...   \n",
              "30           33  Хави Повес активно продвигает концепцию плоско...   \n",
              "551         560  Борющаяся с музыкальными корпорациями группа C...   \n",
              "96          100  Голландский шахматист Мануэль Босбом выиграл с...   \n",
              "..          ...                                                ...   \n",
              "289         294  Василий Рóзанов писал, что Наталья Нóрдман пог...   \n",
              "238         243  Математик семнадцатого века Джон ВАллис активн...   \n",
              "0             0  В одном из эпизодов мультфильма Криса Батлера ...   \n",
              "832         843  В стихотворении под названием «ОН» Дэвид Лоуре...   \n",
              "409         416  «Сначала паруса, а потом корпус корабля». Это ...   \n",
              "\n",
              "                                                     a                predict  \\\n",
              "485  собирать пазл, собирать мозаику, складывать па...  Раскладывать пасьянс.   \n",
              "817                      спутниками, спутники, спутник             расстоянии   \n",
              "30                                астронавт, космонавт              Космонавт   \n",
              "551                                     троянский конь             Дон Кихот.   \n",
              "96                                         дырка, дыра               Надпись.   \n",
              "..                                                 ...                    ...   \n",
              "289                                            пылесос       Каспийское море.   \n",
              "238  курица, куриная лапа, лапа курицы, лапка куриц...             Какофония.   \n",
              "0                                        сэр, сир, sir                   Сэр.   \n",
              "832                             комары, комар, комарик                   Элли   \n",
              "409  шарообразность Земли, Что Земля шар, а также Ч...    Бесконечность мира.   \n",
              "\n",
              "     f1_score  exact_match                                    answer_checking  \n",
              "485  0.000000            0  #НЕВЕРНО\\n\\nИэн Рэнкин увлекается собиранием п...  \n",
              "817  0.000000            0  #НЕВЕРНО.\\n\\nКоманда ответила на вопрос неполн...  \n",
              "30   0.666667            0  #ВЕРНО\\nОтвет команды «Космонавт» можно зачест...  \n",
              "551  0.000000            0  #НЕВЕРНО\\n\\nОтвет команды нельзя зачесть, поск...  \n",
              "96   0.000000            0  #НЕВЕРНО\\n\\nОтвет команды не подходит, посколь...  \n",
              "..        ...          ...                                                ...  \n",
              "289  0.000000            0  #НЕВЕРНО\\nРассуждения: Василий Розанов сравнив...  \n",
              "238  0.000000            0  #НЕВЕРНО\\nРассуждения: ответ команды «Какофони...  \n",
              "0    0.500000            0  #ВЕРНО\\n\\nОтвет команды «сэр» можно зачесть, т...  \n",
              "832  0.000000            0  #НЕВЕРНО\\n\\nОтвет команды не подходит, посколь...  \n",
              "409  0.000000            0  #НЕВЕРНО\\n\\nКоманда дала неверный ответ. Прави...  \n",
              "\n",
              "[400 rows x 7 columns]"
            ]
          },
          "execution_count": 95,
          "metadata": {},
          "output_type": "execute_result"
        }
      ],
      "source": [
        "test"
      ]
    },
    {
      "cell_type": "code",
      "execution_count": 154,
      "id": "2de4a0e2",
      "metadata": {},
      "outputs": [
        {
          "name": "stdout",
          "output_type": "stream",
          "text": [
            "3\n"
          ]
        },
        {
          "name": "stderr",
          "output_type": "stream",
          "text": [
            "C:\\Users\\Elena\\AppData\\Local\\Temp\\ipykernel_29156\\387389236.py:1: SettingWithCopyWarning: \n",
            "A value is trying to be set on a copy of a slice from a DataFrame.\n",
            "Try using .loc[row_indexer,col_indexer] = value instead\n",
            "\n",
            "See the caveats in the documentation: https://pandas.pydata.org/pandas-docs/stable/user_guide/indexing.html#returning-a-view-versus-a-copy\n",
            "  test2['correct2'] = test2['answer_checking_2'].apply(lambda x: '#ВЕРНО' in x)\n"
          ]
        },
        {
          "data": {
            "text/html": [
              "<div>\n",
              "<style scoped>\n",
              "    .dataframe tbody tr th:only-of-type {\n",
              "        vertical-align: middle;\n",
              "    }\n",
              "\n",
              "    .dataframe tbody tr th {\n",
              "        vertical-align: top;\n",
              "    }\n",
              "\n",
              "    .dataframe thead th {\n",
              "        text-align: right;\n",
              "    }\n",
              "</style>\n",
              "<table border=\"1\" class=\"dataframe\">\n",
              "  <thead>\n",
              "    <tr style=\"text-align: right;\">\n",
              "      <th></th>\n",
              "      <th>Unnamed: 0</th>\n",
              "      <th>q</th>\n",
              "      <th>a</th>\n",
              "      <th>predict</th>\n",
              "      <th>f1_score</th>\n",
              "      <th>exact_match</th>\n",
              "      <th>answer_checking</th>\n",
              "      <th>correct</th>\n",
              "      <th>answer_checking_2</th>\n",
              "      <th>correct2</th>\n",
              "    </tr>\n",
              "  </thead>\n",
              "  <tbody>\n",
              "    <tr>\n",
              "      <th>485</th>\n",
              "      <td>492</td>\n",
              "      <td>Автор детективов Иэн Рэнкин увлекается неким з...</td>\n",
              "      <td>собирать пазл, собирать мозаику, складывать па...</td>\n",
              "      <td>Раскладывать пасьянс.</td>\n",
              "      <td>0.000000</td>\n",
              "      <td>0</td>\n",
              "      <td>#НЕВЕРНО\\n\\nИэн Рэнкин увлекается собиранием п...</td>\n",
              "      <td>False</td>\n",
              "      <td>#НЕВЕРНО\\n\\nВ вопросе спрашивают, что именно р...</td>\n",
              "      <td>False</td>\n",
              "    </tr>\n",
              "    <tr>\n",
              "      <th>817</th>\n",
              "      <td>828</td>\n",
              "      <td>Некоторые виды мух называют путниками из-за их...</td>\n",
              "      <td>спутниками, спутники, спутник</td>\n",
              "      <td>расстоянии</td>\n",
              "      <td>0.000000</td>\n",
              "      <td>0</td>\n",
              "      <td>#НЕВЕРНО.\\n\\nКоманда ответила на вопрос неполн...</td>\n",
              "      <td>False</td>\n",
              "      <td>Рассуждения:\\n\\nВ вопросе говорится о привычке...</td>\n",
              "      <td>False</td>\n",
              "    </tr>\n",
              "    <tr>\n",
              "      <th>30</th>\n",
              "      <td>33</td>\n",
              "      <td>Хави Повес активно продвигает концепцию плоско...</td>\n",
              "      <td>астронавт, космонавт</td>\n",
              "      <td>Космонавт</td>\n",
              "      <td>0.666667</td>\n",
              "      <td>0</td>\n",
              "      <td>#ВЕРНО\\nОтвет команды «Космонавт» можно зачест...</td>\n",
              "      <td>True</td>\n",
              "      <td>**Рассуждения:**\\n\\nВопрос касается концепции ...</td>\n",
              "      <td>True</td>\n",
              "    </tr>\n",
              "  </tbody>\n",
              "</table>\n",
              "</div>"
            ],
            "text/plain": [
              "     Unnamed: 0                                                  q  \\\n",
              "485         492  Автор детективов Иэн Рэнкин увлекается неким з...   \n",
              "817         828  Некоторые виды мух называют путниками из-за их...   \n",
              "30           33  Хави Повес активно продвигает концепцию плоско...   \n",
              "\n",
              "                                                     a                predict  \\\n",
              "485  собирать пазл, собирать мозаику, складывать па...  Раскладывать пасьянс.   \n",
              "817                      спутниками, спутники, спутник             расстоянии   \n",
              "30                                астронавт, космонавт              Космонавт   \n",
              "\n",
              "     f1_score  exact_match                                    answer_checking  \\\n",
              "485  0.000000            0  #НЕВЕРНО\\n\\nИэн Рэнкин увлекается собиранием п...   \n",
              "817  0.000000            0  #НЕВЕРНО.\\n\\nКоманда ответила на вопрос неполн...   \n",
              "30   0.666667            0  #ВЕРНО\\nОтвет команды «Космонавт» можно зачест...   \n",
              "\n",
              "     correct                                  answer_checking_2  correct2  \n",
              "485    False  #НЕВЕРНО\\n\\nВ вопросе спрашивают, что именно р...     False  \n",
              "817    False  Рассуждения:\\n\\nВ вопросе говорится о привычке...     False  \n",
              "30      True  **Рассуждения:**\\n\\nВопрос касается концепции ...      True  "
            ]
          },
          "execution_count": 154,
          "metadata": {},
          "output_type": "execute_result"
        }
      ],
      "source": [
        "test2['correct2'] = test2['answer_checking_2'].apply(lambda x: '#ВЕРНО' in x)\n",
        "print(len(test2))\n",
        "test2"
      ]
    },
    {
      "cell_type": "code",
      "execution_count": 97,
      "id": "0dce1085",
      "metadata": {},
      "outputs": [],
      "source": [
        "test.to_csv('test_res_with_bin.csv')"
      ]
    },
    {
      "cell_type": "code",
      "execution_count": 98,
      "id": "3625e9a3",
      "metadata": {},
      "outputs": [
        {
          "data": {
            "text/plain": [
              "0.335"
            ]
          },
          "execution_count": 98,
          "metadata": {},
          "output_type": "execute_result"
        }
      ],
      "source": [
        "test['correct'].sum()/ len(test['correct'])"
      ]
    },
    {
      "cell_type": "code",
      "execution_count": 53,
      "id": "4c9751d9",
      "metadata": {},
      "outputs": [
        {
          "name": "stdout",
          "output_type": "stream",
          "text": [
            "Unnamed: 0                                                       298\n",
            "q                  В терминологии NASA [нáса] ОНИ называются «оде...\n",
            "a                                               подгузники, памперсы\n",
            "predict                                        космические скафандры\n",
            "f1_score                                                         0.0\n",
            "exact_match                                                        0\n",
            "answer_checking    #НЕВЕРНО\\nРассуждения: подгузники и памперсы —...\n",
            "correct                                                        False\n",
            "Name: 292, dtype: object\n"
          ]
        },
        {
          "data": {
            "text/plain": [
              "'#НЕВЕРНО\\nРассуждения: подгузники и памперсы действительно можно назвать «одеждой с максимальным поглощением» в контексте их основной функции. Однако скафандры NASA также выполняют защитную функцию и могут быть названы «одеждой с максимальным поглощением», так как они должны максимально поглощать воздействие неблагоприятных условий космоса на человека.\\n\\nОтвет команды «космические скафандры» не может быть засчитан, так как он не является точным ответом на вопрос.'"
            ]
          },
          "execution_count": 53,
          "metadata": {},
          "output_type": "execute_result"
        }
      ],
      "source": [
        "row = test.iloc[27]\n",
        "print(row)\n",
        "completion = yandex_gpt.get_sync_completion(messages=[{'role': 'user', 'text': base_string+row['q'] + ' ПРАВИЛЬНЫЙ ответ:'+ row['a'] + 'Ответ команды:' + row['predict'] }])\n",
        "completion"
      ]
    },
    {
      "cell_type": "code",
      "execution_count": 54,
      "id": "476c40bc",
      "metadata": {},
      "outputs": [
        {
          "data": {
            "text/plain": [
              "'В терминологии NASA [нáса] ОНИ называются «одеждой с максимальным поглощением». Названия самых популярных моделей ИХ переводятся как «баловники» и «обнимашки». Назовите ИХ.'"
            ]
          },
          "execution_count": 54,
          "metadata": {},
          "output_type": "execute_result"
        }
      ],
      "source": [
        "row['q']"
      ]
    },
    {
      "cell_type": "markdown",
      "id": "2b785c55",
      "metadata": {},
      "source": []
    },
    {
      "cell_type": "code",
      "execution_count": 55,
      "id": "38a2b75c",
      "metadata": {},
      "outputs": [
        {
          "data": {
            "text/html": [
              "<div>\n",
              "<style scoped>\n",
              "    .dataframe tbody tr th:only-of-type {\n",
              "        vertical-align: middle;\n",
              "    }\n",
              "\n",
              "    .dataframe tbody tr th {\n",
              "        vertical-align: top;\n",
              "    }\n",
              "\n",
              "    .dataframe thead th {\n",
              "        text-align: right;\n",
              "    }\n",
              "</style>\n",
              "<table border=\"1\" class=\"dataframe\">\n",
              "  <thead>\n",
              "    <tr style=\"text-align: right;\">\n",
              "      <th></th>\n",
              "      <th>Unnamed: 0</th>\n",
              "      <th>q</th>\n",
              "      <th>a</th>\n",
              "    </tr>\n",
              "  </thead>\n",
              "  <tbody>\n",
              "    <tr>\n",
              "      <th>0</th>\n",
              "      <td>0</td>\n",
              "      <td>В одном из эпизодов мультфильма Криса Батлера ...</td>\n",
              "      <td>сэр, сир, sir</td>\n",
              "    </tr>\n",
              "    <tr>\n",
              "      <th>1</th>\n",
              "      <td>1</td>\n",
              "      <td>В коротком произведении Елены Кацюбы в аду зло...</td>\n",
              "      <td>удав</td>\n",
              "    </tr>\n",
              "    <tr>\n",
              "      <th>2</th>\n",
              "      <td>2</td>\n",
              "      <td>По сюжету фильма Дэвида Хьюитта четверо астрон...</td>\n",
              "      <td>Дороти, Элли</td>\n",
              "    </tr>\n",
              "    <tr>\n",
              "      <th>3</th>\n",
              "      <td>3</td>\n",
              "      <td>Дэвид Вуттон пишет, что раньше одни учёные пол...</td>\n",
              "      <td>игра Камень ножницы бумага, Камень ножницы бумага</td>\n",
              "    </tr>\n",
              "    <tr>\n",
              "      <th>4</th>\n",
              "      <td>4</td>\n",
              "      <td>Ведущие украинской телепередачи “Орёл и решка”...</td>\n",
              "      <td>Дома лучше, А дома лучше</td>\n",
              "    </tr>\n",
              "    <tr>\n",
              "      <th>...</th>\n",
              "      <td>...</td>\n",
              "      <td>...</td>\n",
              "      <td>...</td>\n",
              "    </tr>\n",
              "    <tr>\n",
              "      <th>836</th>\n",
              "      <td>847</td>\n",
              "      <td>Животные рода хрисаора также известны как морс...</td>\n",
              "      <td>Медуса, Медуза</td>\n",
              "    </tr>\n",
              "    <tr>\n",
              "      <th>837</th>\n",
              "      <td>848</td>\n",
              "      <td>Альберто Анджела пишет, что если проследить пе...</td>\n",
              "      <td>монета</td>\n",
              "    </tr>\n",
              "    <tr>\n",
              "      <th>838</th>\n",
              "      <td>849</td>\n",
              "      <td>В казахских танцах движения рук имеют важную р...</td>\n",
              "      <td>на себя, от себя</td>\n",
              "    </tr>\n",
              "    <tr>\n",
              "      <th>839</th>\n",
              "      <td>850</td>\n",
              "      <td>Начало карьеры Линдси Лохан в кино было по-нас...</td>\n",
              "      <td>диснеевские принцессы, принцессы Дисней</td>\n",
              "    </tr>\n",
              "    <tr>\n",
              "      <th>840</th>\n",
              "      <td>851</td>\n",
              "      <td>Казахские девушки традиционно заплетают волосы...</td>\n",
              "      <td>свадьба, замужество</td>\n",
              "    </tr>\n",
              "  </tbody>\n",
              "</table>\n",
              "<p>841 rows × 3 columns</p>\n",
              "</div>"
            ],
            "text/plain": [
              "     Unnamed: 0                                                  q  \\\n",
              "0             0  В одном из эпизодов мультфильма Криса Батлера ...   \n",
              "1             1  В коротком произведении Елены Кацюбы в аду зло...   \n",
              "2             2  По сюжету фильма Дэвида Хьюитта четверо астрон...   \n",
              "3             3  Дэвид Вуттон пишет, что раньше одни учёные пол...   \n",
              "4             4  Ведущие украинской телепередачи “Орёл и решка”...   \n",
              "..          ...                                                ...   \n",
              "836         847  Животные рода хрисаора также известны как морс...   \n",
              "837         848  Альберто Анджела пишет, что если проследить пе...   \n",
              "838         849  В казахских танцах движения рук имеют важную р...   \n",
              "839         850  Начало карьеры Линдси Лохан в кино было по-нас...   \n",
              "840         851  Казахские девушки традиционно заплетают волосы...   \n",
              "\n",
              "                                                     a  \n",
              "0                                        сэр, сир, sir  \n",
              "1                                                 удав  \n",
              "2                                         Дороти, Элли  \n",
              "3    игра Камень ножницы бумага, Камень ножницы бумага  \n",
              "4                             Дома лучше, А дома лучше  \n",
              "..                                                 ...  \n",
              "836                                     Медуса, Медуза  \n",
              "837                                             монета  \n",
              "838                                   на себя, от себя  \n",
              "839            диснеевские принцессы, принцессы Дисней  \n",
              "840                                свадьба, замужество  \n",
              "\n",
              "[841 rows x 3 columns]"
            ]
          },
          "execution_count": 55,
          "metadata": {},
          "output_type": "execute_result"
        }
      ],
      "source": [
        "df"
      ]
    },
    {
      "cell_type": "code",
      "execution_count": 99,
      "id": "8900365b",
      "metadata": {},
      "outputs": [
        {
          "data": {
            "text/plain": [
              "0.2508005952380952"
            ]
          },
          "execution_count": 99,
          "metadata": {},
          "output_type": "execute_result"
        }
      ],
      "source": [
        "total_f1_score"
      ]
    },
    {
      "cell_type": "code",
      "execution_count": 100,
      "id": "3460fbe9",
      "metadata": {},
      "outputs": [
        {
          "data": {
            "text/plain": [
              "0.18"
            ]
          },
          "execution_count": 100,
          "metadata": {},
          "output_type": "execute_result"
        }
      ],
      "source": [
        "total_exact_match"
      ]
    },
    {
      "cell_type": "code",
      "execution_count": null,
      "id": "844f1cad",
      "metadata": {},
      "outputs": [],
      "source": []
    },
    {
      "cell_type": "code",
      "execution_count": null,
      "id": "961ab50a",
      "metadata": {},
      "outputs": [],
      "source": []
    }
  ],
  "metadata": {
    "colab": {
      "provenance": []
    },
    "kernelspec": {
      "display_name": "Python 3 (ipykernel)",
      "language": "python",
      "name": "python3"
    },
    "language_info": {
      "codemirror_mode": {
        "name": "ipython",
        "version": 3
      },
      "file_extension": ".py",
      "mimetype": "text/x-python",
      "name": "python",
      "nbconvert_exporter": "python",
      "pygments_lexer": "ipython3",
      "version": "3.11.7"
    }
  },
  "nbformat": 4,
  "nbformat_minor": 5
}
